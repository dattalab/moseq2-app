{
 "cells": [
  {
   "cell_type": "markdown",
   "metadata": {
    "toc": true
   },
   "source": [
    "<h1>Table of Contents<span class=\"tocSkip\"></span></h1>\n",
    "<div class=\"toc\"><ul class=\"toc-item\"><li><span><a href=\"#Project-setup\" data-toc-modified-id=\"Project-setup-1\"><span class=\"toc-item-num\">1&nbsp;&nbsp;</span>Project setup</a></span><ul class=\"toc-item\"><li><span><a href=\"#Files-and-Directory-Structure\" data-toc-modified-id=\"Files-and-Directory-Structure-1.1\"><span class=\"toc-item-num\">1.1&nbsp;&nbsp;</span>Files and Directory Structure</a></span></li><li><span><a href=\"#Load-Progress\" data-toc-modified-id=\"Load-Progress-1.2\"><span class=\"toc-item-num\">1.2&nbsp;&nbsp;</span>Load Progress</a></span></li><li><span><a href=\"#Setup-Directory-Structure-for-Analyzing-Model(s)\" data-toc-modified-id=\"Setup-Directory-Structure-for-Analyzing-Model(s)-1.3\"><span class=\"toc-item-num\">1.3&nbsp;&nbsp;</span>Setup Directory Structure for Analyzing Model(s)</a></span></li><li><span><a href=\"#Get-Best-Model-Fit\" data-toc-modified-id=\"Get-Best-Model-Fit-1.4\"><span class=\"toc-item-num\">1.4&nbsp;&nbsp;</span>Get Best Model Fit</a></span></li><li><span><a href=\"#[OPTIONAL]-Specify-Paths-to-Specific-Model\" data-toc-modified-id=\"[OPTIONAL]-Specify-Paths-to-Specific-Model-1.5\"><span class=\"toc-item-num\">1.5&nbsp;&nbsp;</span>[OPTIONAL] Specify Paths to Specific Model</a></span></li></ul></li><li><span><a href=\"#Compute-Syllable-Statistics\" data-toc-modified-id=\"Compute-Syllable-Statistics-2\"><span class=\"toc-item-num\">2&nbsp;&nbsp;</span>Compute Syllable Statistics</a></span><ul class=\"toc-item\"><li><span><a href=\"#Compute-scalar_df\" data-toc-modified-id=\"Compute-scalar_df-2.1\"><span class=\"toc-item-num\">2.1&nbsp;&nbsp;</span>Compute <code>scalar_df</code></a></span></li><li><span><a href=\"#Export-scalar_df\" data-toc-modified-id=\"Export-scalar_df-2.2\"><span class=\"toc-item-num\">2.2&nbsp;&nbsp;</span>Export <code>scalar_df</code></a></span></li><li><span><a href=\"#Compute-mean_df\" data-toc-modified-id=\"Compute-mean_df-2.3\"><span class=\"toc-item-num\">2.3&nbsp;&nbsp;</span>Compute <code>mean_df</code></a></span></li><li><span><a href=\"#Export-mean_df\" data-toc-modified-id=\"Export-mean_df-2.4\"><span class=\"toc-item-num\">2.4&nbsp;&nbsp;</span>Export <code>mean_df</code></a></span></li></ul></li><li><span><a href=\"#Interactive-Syllable-Labelling-Tool\" data-toc-modified-id=\"Interactive-Syllable-Labelling-Tool-3\"><span class=\"toc-item-num\">3&nbsp;&nbsp;</span>Interactive Syllable Labelling Tool</a></span></li><li><span><a href=\"#Interactive-Syllable-Statistics-Graphing\" data-toc-modified-id=\"Interactive-Syllable-Statistics-Graphing-4\"><span class=\"toc-item-num\">4&nbsp;&nbsp;</span>Interactive Syllable Statistics Graphing</a></span></li><li><span><a href=\"#Compute-Syllable-Transition-Matrices\" data-toc-modified-id=\"Compute-Syllable-Transition-Matrices-5\"><span class=\"toc-item-num\">5&nbsp;&nbsp;</span>Compute Syllable Transition Matrices</a></span><ul class=\"toc-item\"><li><span><a href=\"#Export-Transition-Matrices-and-usages\" data-toc-modified-id=\"Export-Transition-Matrices-and-usages-5.1\"><span class=\"toc-item-num\">5.1&nbsp;&nbsp;</span>Export Transition Matrices and usages</a></span></li><li><span><a href=\"#Interactive-Syllable-Transition-Graph-Tool\" data-toc-modified-id=\"Interactive-Syllable-Transition-Graph-Tool-5.2\"><span class=\"toc-item-num\">5.2&nbsp;&nbsp;</span>Interactive Syllable Transition Graph Tool</a></span></li></ul></li><li><span><a href=\"#Notebook-End\" data-toc-modified-id=\"Notebook-End-6\"><span class=\"toc-item-num\">6&nbsp;&nbsp;</span>Notebook End</a></span></li><li><span><a href=\"#User-Survey\" data-toc-modified-id=\"User-Survey-7\"><span class=\"toc-item-num\">7&nbsp;&nbsp;</span>User Survey</a></span></li></ul></div>"
   ]
  },
  {
   "cell_type": "markdown",
   "metadata": {},
   "source": [
    "# Project setup\n",
    "\n",
    "## Files and Directory Structure\n",
    "To run this notebook, you need the following files in your data directory:\n",
    "- `progress.yaml` (the `progress.yaml` file that contains all the required MoSeq paths)\n",
    "- `model.p` (trained ARHMM to compute statistics from)\n",
    "- `moseq2-index.yaml` (the `moseq2-index.yaml` generated containing paths to extracted sessions that will be used to generate syllable crowd movies)\n",
    "- `config.yaml` (configuration file that contains configured parameters throughout the MoSeq pipeline)\n",
    "- `_pca/` (PCA-related data generated from the PCA section)\n",
    "- `aggregate_results/` (aggregated session data)\n",
    "\n",
    "At this stage, the base directory should contain the necessary files above, as shown below:\n",
    "```\n",
    ".\n",
    "└── Data_Directory/\n",
    "    ├── progress.yaml\n",
    "    ├── config.yaml\n",
    "    ├── moseq2-index.yaml\n",
    "    ├── model_session_path/\n",
    "    ├   └── model.p\n",
    "    ...\n",
    "    ├── _pca/\n",
    "    └── aggregate_results/\n",
    "\n",
    "```\n",
    "\n",
    "**Note: this notebook uses `progress.yaml` to keep track of all the necessary paths.** Please ensure you run the [Load Progress cell](#Load-Progress) before running any analysis modules."
   ]
  },
  {
   "cell_type": "markdown",
   "metadata": {},
   "source": [
    "## Load Progress\n",
    "- **Run this cell** to load the `progress.yaml` file and verify progress for the result analysis. This cell checks if the `progress_paths` dictionary contains the necessary paths to use the features in the rest of the notebook and displays the content in `progress_paths`.\n",
    "\n",
    "**If the Extraction, PCA and modeling steps are done uing the Command Line Interface, set `init = True` and `overwrite = True` in `progress_paths = restore_progress_vars(progress_file=progress_filepath, init = False, overwrite = False)`.**"
   ]
  },
  {
   "cell_type": "code",
   "execution_count": null,
   "metadata": {
    "scrolled": true
   },
   "outputs": [],
   "source": [
    "from os.path import join, dirname, abspath\n",
    "from moseq2_app.gui.progress import update_progress, restore_progress_vars\n",
    "\n",
    "progress_filepath = './progress.yaml'\n",
    "progress_paths = restore_progress_vars(progress_file=progress_filepath, init = False, overwrite = False)\n",
    "\n",
    "# necessary paths to check for the analysis pipeline\n",
    "must_have_paths = ['base_dir', 'config_file', 'index_file', 'train_data_dir', 'pca_dirname', \n",
    "                   'scores_filename', 'scores_path', 'changepoints_path']\n",
    "# keywords that should be in the paths\n",
    "keywords = [abspath(dirname(progress_filepath)), 'config.yaml', 'moseq2-index.yaml', 'aggregate_results', '_pca',\n",
    "           'pca_scores','pca_scores.h5', 'changepoints']\n",
    "# zip the necessary paths and keywords for checking\n",
    "must_have_paths = dict(zip(must_have_paths, keywords))\n",
    "\n",
    "# sanity check for discrepancies\n",
    "for key, value in must_have_paths.items():\n",
    "    if value not in progress_paths.get(key, ''):\n",
    "        print(f'Please check and correct the path in {key} The default path should contain {value}')\n",
    "        print('File names are not default values, please check if this is intentional')\n",
    "progress_paths"
   ]
  },
  {
   "cell_type": "markdown",
   "metadata": {},
   "source": [
    "## Setup Directory Structure for Analyzing Model(s)\n",
    "- Run the following cell to create model-specific folders for further analysis. The command will create a folder for each model and copy the model to the respective folder."
   ]
  },
  {
   "cell_type": "code",
   "execution_count": null,
   "metadata": {},
   "outputs": [],
   "source": [
    "from moseq2_app.util import setup_model_folders\n",
    "model_dict = setup_model_folders(progress_paths)"
   ]
  },
  {
   "cell_type": "markdown",
   "metadata": {},
   "source": [
    "## Get Best Model Fit\n",
    "This feature compares the trained model(s) with the principal components' changepoints and it supports two objectives for the comparison. `duration` finds the model where **the median syllable duration** best matches that of the principal components' changepoints. `jsd` finds the model where **the distribution of syllable durations** best match that of the principal components' changepoints. You can find more information in the [wiki](https://github.com/dattalab/moseq2-app/wiki/Main-MoSeq-Notebook-Instructions#finding-best-model-fit).\n",
    "\n",
    "\n",
    "Once completed, if there are multiple models, this feature returns the best model from a list of models found in the `progress_paths['main_model_path']`.\n",
    "\n",
    "**Instructions:**\n",
    "- **Run the following cell** to get the best model fit."
   ]
  },
  {
   "cell_type": "code",
   "execution_count": null,
   "metadata": {
    "scrolled": false
   },
   "outputs": [],
   "source": [
    "from os.path import join\n",
    "from moseq2_viz.gui import get_best_fit_model\n",
    "from moseq2_app.util import update_model_paths\n",
    "from moseq2_app.gui.progress import update_progress, restore_progress_vars\n",
    "\n",
    "progress_paths = restore_progress_vars(progress_filepath)\n",
    "\n",
    "output_file = join(progress_paths['plot_path'], 'model_vs_pc_changepoints')\n",
    "objective = 'duration' # objective could be either duration or jsd\n",
    "\n",
    "best_model_fit = get_best_fit_model(progress_paths, output_file, plot_all=True, objective=objective)\n",
    "\n",
    "best_model = best_model_fit['best model - duration'].split('/')[-1]\n",
    "\n",
    "# Update the progress file with best model\n",
    "progress_paths = update_model_paths(best_model, model_dict, progress_filepath)"
   ]
  },
  {
   "cell_type": "markdown",
   "metadata": {},
   "source": [
    "## [OPTIONAL] Specify Paths to Specific Model\n",
    "If you have a specific model and/or specific model session path that are(is) different from the paths in the text fields below, change the text field to specify the new path(s).\n",
    "\n",
    "**Instructions:**\n",
    "- **Run the following cell** to specify the path(s) to a specific model and/or specific model session path if needed. "
   ]
  },
  {
   "cell_type": "code",
   "execution_count": null,
   "metadata": {
    "pycharm": {
     "name": "#%%\n"
    },
    "scrolled": true
   },
   "outputs": [],
   "source": [
    "from moseq2_app.util import update_model_paths\n",
    "# replace this file name of the desired model\n",
    "desired_model = best_model\n",
    "\n",
    "# Update progress file\n",
    "progress_paths = update_model_paths(desired_model, model_dict, progress_filepath)"
   ]
  },
  {
   "cell_type": "markdown",
   "metadata": {},
   "source": [
    "# Compute Syllable Statistics\n",
    "\n",
    "The following cells produce 2 dataframes: `scalar_df` and `mean_df`.\n",
    " - `scalar_df` is a vertically stacked dataframe of scalar values measured during the extraction step, aligned with the model_labels and timestamps. The shape would be (sum_of_session_frames, 31). To view all the measured scalars, print(scalar_df.columns)\n",
    "   - This dataframe can be used to plot the scalar feature values for any session over time.\n",
    " - `mean_df` is a dataframe of the average syllable-scalar values for all the features included in `scalar_df` grouped by the resorted syllable labels, model groups, and uuids.\n",
    "   - This dataframe will be used to plot mean syllable statistics and perform hypothesis testing."
   ]
  },
  {
   "cell_type": "markdown",
   "metadata": {},
   "source": [
    "## Compute `scalar_df`\n",
    "**Instructions:**\n",
    "- **Run the following cell** to compute `scalar_df`."
   ]
  },
  {
   "cell_type": "code",
   "execution_count": null,
   "metadata": {
    "scrolled": false
   },
   "outputs": [],
   "source": [
    "from moseq2_viz.util import parse_index\n",
    "from moseq2_viz.scalars.util import scalars_to_dataframe\n",
    "\n",
    "_, sorted_index = parse_index(progress_paths['index_file'])\n",
    "# compute session scalar data\n",
    "scalar_df = scalars_to_dataframe(sorted_index, model_path=progress_paths['model_path'])\n",
    "\n",
    "print('The shape of scalar_df', scalar_df.shape)\n",
    "scalar_df.head()"
   ]
  },
  {
   "cell_type": "markdown",
   "metadata": {},
   "source": [
    "## Export `scalar_df`\n",
    "**Instructions:**\n",
    "- **Set `export` variable to `True`** if you want to export `scalar_df` for further analysis outside of this notebook.\n",
    "- **Specify the place** you want to save the dataframe in `save_path`. If empty, the file will be saved to `base_dir`.\n",
    "- **Run the following cell** to save `scalar_df` as a CSV file."
   ]
  },
  {
   "cell_type": "code",
   "execution_count": null,
   "metadata": {},
   "outputs": [],
   "source": [
    "# Save `scalar_df` as a csv file\n",
    "# set export = True if you want to export scalar_df for further analysis outside of this notebook\n",
    "\n",
    "from os.path import exists, join\n",
    "\n",
    "export = False\n",
    "# Specify the place you want to save the dataframe in `save_path`. If empty, the file will be save to `base_dir`\n",
    "save_path = \"\"\n",
    "base_dir = progress_paths['base_dir']\n",
    "\n",
    "if export:\n",
    "    # Ensure path exist \n",
    "    if len(save_path) ==0:\n",
    "        save_path = base_dir\n",
    "        print(\"Dataframe will be saved to\", save_path)\n",
    "    else:\n",
    "        try:\n",
    "            assert exists(save_path)\n",
    "            print(\"Dataframe will be saved to\", save_path)\n",
    "        except AssertionError:\n",
    "            save_path = base_dir\n",
    "            print('This is not a valid path. Dataframe csv will be saved to base_dir')\n",
    "    scalar_df.to_csv(join(save_path,'scalar_df.csv'), index=False)\n",
    "    print('Dataframe is saved')"
   ]
  },
  {
   "cell_type": "markdown",
   "metadata": {},
   "source": [
    "## Compute `mean_df`\n",
    "\n",
    "**Instructions:**\n",
    "- **Run the following cell** to `mean_df`."
   ]
  },
  {
   "cell_type": "code",
   "execution_count": null,
   "metadata": {
    "scrolled": false
   },
   "outputs": [],
   "source": [
    "from moseq2_viz.model.util import compute_behavioral_statistics\n",
    "# compute syllable usage and scalar statistics\n",
    "mean_df = compute_behavioral_statistics(scalar_df, count='usage', groupby=['group', 'uuid'], usage_normalization=True)\n",
    "print('The shape of mean_df', mean_df.shape)\n",
    "mean_df.head()"
   ]
  },
  {
   "cell_type": "markdown",
   "metadata": {},
   "source": [
    "## Export `mean_df`\n",
    "\n",
    "**Instructions:**\n",
    "- **Set `export` variable to `True`** if you want to export `mean_df` for further analysis outside of this notebook.\n",
    "- **Specify the place** you want to save the dataframe in `save_path`. If empty, the file will be saved to `base_dir`.\n",
    "- **Run the following cell** to save `mean_df` as a CSV file."
   ]
  },
  {
   "cell_type": "code",
   "execution_count": null,
   "metadata": {},
   "outputs": [],
   "source": [
    "# Save `scalar_df` as a csv file\n",
    "# set export = True if you want to export mean_df for further analysis outside of this notebook\n",
    "from os.path import exists, join\n",
    "export = False\n",
    "# Specify the place you want to save the dataframe in `save_path`. If empty, the file will be save to `base_dir`\n",
    "save_path = \"\"\n",
    "base_dir = progress_paths['base_dir']\n",
    "\n",
    "if export:\n",
    "    # Ensure path exist\n",
    "    if len(save_path) ==0:\n",
    "        save_path = base_dir\n",
    "        print(\"Dataframe will be saved to\", save_path)\n",
    "    else:\n",
    "        try:\n",
    "            assert exists(save_path)\n",
    "            print(\"Dataframe will be saved to\", save_path)\n",
    "        except AssertionError:\n",
    "            save_path = base_dir\n",
    "            print('This is not a valid path. Dataframe csv will be saved to base_dir')\n",
    "    mean_df.to_csv(join(save_path,'mean_df.csv'), index=False)\n",
    "    print('Dataframe is saved')"
   ]
  },
  {
   "cell_type": "markdown",
   "metadata": {},
   "source": [
    "## Generate Behavioral Summary (Fingerprints)\n",
    "**Instructions:**\n",
    "- **Run the following cell** to generate the summary dataframe and plot the behavioral summary.\n",
    "- **Set `n_bins` variable** to an integer to specify the number of bins for the MoSeq scalar values. Set `n_bins` variable to `None` if you want the number of bins to match the number of syllables.\n",
    "- **Set `range_type` variable** to 'robust' to include data ranging from 1 percentile to 99 percentile. **Set `range_type` variable** to 'full' to include all the data.\n",
    "- **Assign an `sklearn.preprocessing` object to `preprocessor` variable** if you want to scale the values by session. `preprocessor` variable is set to `None`, the figure will show the percentage usage."
   ]
  },
  {
   "cell_type": "code",
   "execution_count": null,
   "metadata": {},
   "outputs": [],
   "source": [
    "from moseq2_viz.model.fingerprint_classifier import create_fingerprint_dataframe, plotting_fingerprint\n",
    "from sklearn.preprocessing import MinMaxScaler, StandardScaler\n",
    "\n",
    "n_bins = 100 \n",
    "range_type='robust'\n",
    "summary, range_dict = create_fingerprint_dataframe(scalar_df, mean_df, n_bins=n_bins, range_type=range_type)\n",
    "\n",
    "preprocessor = MinMaxScaler()\n",
    "plotting_fingerprint(summary, range_dict, preprocessor=preprocessor)"
   ]
  },
  {
   "cell_type": "markdown",
   "metadata": {},
   "source": [
    "## Linear Classifier using MoSeq Syllables\n",
    "**Instructions:**\n",
    "- **Run the following cell** to generate the summary dataframe and train a linear classifier using MoSeq syllables."
   ]
  },
  {
   "cell_type": "code",
   "execution_count": null,
   "metadata": {},
   "outputs": [],
   "source": [
    "from moseq2_viz.model.fingerprint_classifier import create_fingerprint_dataframe, classifier_fingerprint, plot_cm\n",
    "import matplotlib.pyplot as plt\n",
    "\n",
    "n_bins = None\n",
    "range_type = 'robust'\n",
    "summary, _ = create_fingerprint_dataframe(scalar_df, mean_df, n_bins=n_bins, range_type=range_type)\n",
    "\n",
    "features=['MoSeq'] # list of feature(s) to include in the classifier\n",
    "preprocessor=None # sklearn.preprocessing object as a preprocessor for the data\n",
    "classes=['group'] # target for the classifier\n",
    "param_search=True # if True, the function will run GridSearchCV to find the regularization parameter for the linear classifier\n",
    "C_list=None # list of regularization parameter to search through\n",
    "model_type='lr' # type of linear classifier. 'lr' for logistic regression, 'svc' for linearSVC\n",
    "cv='loo' # type of cross validation. 'loo' for leave one out, 'skf' for stratifiedKFold\n",
    "n_splits=5 # number of split for stratifiedKFold\n",
    "\n",
    "out = classifier_fingerprint(summary, features=features, preprocessor=preprocessor, classes=classes, param_search=param_search, C_list=C_list, model_type=model_type, cv=cv, n_splits=n_splits)\n",
    "plot_cm(out['y_true'], out['y_pred'], out['shuff_y_true'], out['shuff_y_pred'])\n",
    "\n",
    "plt.plot(out['coefs'].mean(0), label='True coefficients')\n",
    "plt.plot(out['shuff_coefs'].mean(0), label='Shuffle coefficients')\n",
    "plt.legend()"
   ]
  },
  {
   "cell_type": "markdown",
   "metadata": {},
   "source": [
    "## Linear Classifier using MoSeq Scalar values\n",
    "**Instructions:**\n",
    "- **Run the following cell** to generate the summary dataframe and train a linear classifier using MoSeq scalar values."
   ]
  },
  {
   "cell_type": "code",
   "execution_count": null,
   "metadata": {},
   "outputs": [],
   "source": [
    "from moseq2_viz.model.fingerprint_classifier import create_fingerprint_dataframe, classifier_fingerprint, plot_cm\n",
    "import matplotlib.pyplot as plt\n",
    "\n",
    "features=['dist_to_center_px', 'height_ave_mm', 'length_mm', 'velocity_2d_mm'] # list of feature(s) to include in the classifier\n",
    "preprocessor=None # sklearn.preprocessing object as a preprocessor for the data\n",
    "classes=['group'] # target for the classifier\n",
    "param_search=True # if True, the function will run GridSearchCV to find the regularization parameter for the linear classifier\n",
    "C_list=None # list of regularization parameter to search through\n",
    "model_type='lr' # type of linear classifier. 'lr' for logistic regression, 'svc' for linearSVC\n",
    "cv='loo' # type of cross validation. 'loo' for leave one out, 'skf' for stratifiedKFold\n",
    "n_splits=5 # number of split for stratifiedKFold\n",
    "\n",
    "out = classifier_fingerprint(summary, features=features, preprocessor=preprocessor, classes=classes, param_search=param_search, C_list=C_list, model_type=model_type, cv=cv, n_splits=n_splits)\n",
    "plot_cm(out['y_true'], out['y_pred'], out['shuff_y_true'], out['shuff_y_pred'])\n",
    "\n",
    "plt.plot(out['coefs'].mean(0), label='True coefficients')\n",
    "plt.plot(out['shuff_coefs'].mean(0), label='Shuffle coefficients')\n",
    "plt.legend()"
   ]
  },
  {
   "cell_type": "markdown",
   "metadata": {},
   "source": [
    "#  Interactive Syllable Labelling Tool\n",
    "Use this interactive tool to assign behavioral labels and short descriptions to syllables by observing the crowd movies and the Syllable Info table. You can find more information in the [wiki](https://github.com/dattalab/moseq2-app/wiki/Interactive-Model-Results-Exploration-Notebook-Instructions#interactive-syllable-labelling).\n",
    "\n",
    "**Instructions:**\n",
    "- **Run the following cell** to launch the Interactive Syllable Statistics Tool.\n",
    "- **Select a syllable** from the `Syllable` dropdown menu to view the associated crowd movie and syllable info.\n",
    "- **Adjust the crowd movie playback speed using the `Playback Speed` slider** to better observe the behavior associated with short/fast syllables.\n",
    "- **Input the syllable behavioral label and short description** in the text fields.\n",
    "- Click `Save Setting` to save the syllable label and description for later analysis.\n",
    "- Use `Next` and `Previous` to navigate between syllables and the syllable label and description will be automatically saved when using these buttons."
   ]
  },
  {
   "cell_type": "code",
   "execution_count": null,
   "metadata": {},
   "outputs": [],
   "source": [
    "from os.path import join\n",
    "from moseq2_app.main import label_syllables\n",
    "from moseq2_app.gui.progress import update_progress\n",
    "\n",
    "# Path to generate crowd movies in\n",
    "crowd_dir = join(progress_paths['model_session_path'], 'crowd_movies/')\n",
    "\n",
    "# Path to file containing Syllable label information\n",
    "syll_infopath = join(progress_paths['model_session_path'], 'syll_info.yaml')\n",
    "\n",
    "# convenience file containing reused syllable statistics data\n",
    "syll_info_df_path = join(progress_paths['model_session_path'], 'syll_df.parquet')\n",
    "\n",
    "# Select number of syllables based on an explained variance percentage\n",
    "explained_variance = 99\n",
    "\n",
    "# To instead label a fixed number of syllables, set max_syllables <= nstates\n",
    "max_syllables = None\n",
    "\n",
    "update_progress(progress_filepath, 'crowd_dir', crowd_dir)\n",
    "update_progress(progress_filepath, 'syll_info', syll_infopath)\n",
    "progress_paths = update_progress(progress_filepath, 'df_info_path', syll_info_df_path)\n",
    "\n",
    "label_syllables(progress_paths, max_syllables=max_syllables, n_explained=explained_variance)"
   ]
  },
  {
   "cell_type": "markdown",
   "metadata": {},
   "source": [
    "# Interactive Syllable Statistics Graphing\n",
    "\n",
    "Use this interactive tool to plot different syllable statistics and their differences in the modeled groups. The dendrogram displayed below the statistics plot represents the hierarchically sorted pairwise distances between the given model's autoregressive matrices representing the syllables. You can find more information in the [wiki](https://github.com/dattalab/moseq2-app/wiki/Interactive-Model-Results-Exploration-Notebook-Instructions#interactive-syllable-statistics-graphing).\n",
    "\n",
    "**Instructions:**\n",
    "- *Run the following cell* to launch the Interactive Syllable Statistics Tool.\n",
    "- **Select the parameter(s) from the dropdown menus** parameters to control the graph. \n",
    "- To plot multiple sessions and subjects, **select multiple sessions from `SessionName` or `SubjectName` while holding down the [Ctrl]/[Command]/[Shift] key**.\n",
    "- **Hover over the data points** to display syllable info."
   ]
  },
  {
   "cell_type": "code",
   "execution_count": null,
   "metadata": {
    "scrolled": false
   },
   "outputs": [],
   "source": [
    "from moseq2_app.main import interactive_syllable_stats\n",
    "\n",
    "max_syllables = None\n",
    "\n",
    "# If loading parquet files is taking too long, set load_parquet=False\n",
    "interactive_syllable_stats(progress_paths, max_syllable=max_syllables, load_parquet=True)"
   ]
  },
  {
   "cell_type": "markdown",
   "metadata": {},
   "source": [
    "# Compute Syllable Transition Matrices\n",
    "\n",
    "Note this code block is loading the model from the `model_path` and is __not__ using the `mean_df` variable.\n",
    "\n",
    "**Instructions:**\n",
    "- **Run the following cell** to compute syllable transition matrices within each group."
   ]
  },
  {
   "cell_type": "code",
   "execution_count": null,
   "metadata": {
    "scrolled": false
   },
   "outputs": [],
   "source": [
    "from moseq2_viz.model.util import parse_model_results, relabel_by_usage\n",
    "from moseq2_viz.model.trans_graph import get_trans_graph_groups, get_group_trans_mats\n",
    "from moseq2_viz.model.util import compute_syllable_explained_variance\n",
    "\n",
    "# load your model\n",
    "model_path = progress_paths['model_path']\n",
    "model_data = parse_model_results(model_path)\n",
    "model_data['labels'] = relabel_by_usage(model_data['labels'], count='usage')[0]\n",
    "max_syllable = compute_syllable_explained_variance(model_data, n_explained=99)\n",
    "\n",
    "# select a transition matrix normalization method\n",
    "normalize = 'bigram' # other options: 'columns', 'rows'\n",
    "\n",
    "# Get modeled session uuids to compute group-mean transition graph for each group\n",
    "label_group, uuids = get_trans_graph_groups(model_data)\n",
    "group = list(set(label_group))\n",
    "# compute transition matrices and usages for each group\n",
    "print('Group(s):', group)\n",
    "trans_mats, usages = get_group_trans_mats(model_data['labels'], label_group, group, max_syllable, normalize=normalize)\n",
    "\n",
    "import matplotlib.pyplot as plt\n",
    "\n",
    "fig, ax = plt.subplots(1, len(group), figsize=(12, 8), sharex=False, sharey=True)\n",
    "\n",
    "for i, g in enumerate(group):\n",
    "    h = ax[i].imshow(trans_mats[i][:max_syllable,:max_syllable], cmap='magma')\n",
    "    plt.colorbar(h, ax=ax[i], fraction=0.046, pad=0.04)\n",
    "    ax[i].set_xlabel('Syllable j')\n",
    "    ax[i].set_ylabel('Syllable i')\n",
    "    ax[i].set_title(f'{g}: Bigram Transition Probabilities')"
   ]
  },
  {
   "cell_type": "markdown",
   "metadata": {},
   "source": [
    "## Export Transition Matrices and usages\n",
    "\n",
    "**Instructions:**\n",
    "- **Set `export` variable to `True`** if you want to export the transition matrices and syllable usages for further analysis outside of this notebook.\n",
    "- **Specify the place** you want to save the dataframe in `save_path`. If empty, the file will be saved to `base_dir`.\n",
    "- **Run the following cell** to save the group transition matrices and syllable usages as CSV files."
   ]
  },
  {
   "cell_type": "code",
   "execution_count": null,
   "metadata": {},
   "outputs": [],
   "source": [
    "import pandas as pd\n",
    "from os.path import exists, join\n",
    "\n",
    "# set export = True if you want to export the transition matrices and syllable usages\n",
    "export = False\n",
    "base_dir = progress_paths['base_dir']\n",
    "selected_group = \"\" #specify group name to be exported here\n",
    "save_path = \"\"\n",
    "\n",
    "\n",
    "\n",
    "if export:\n",
    "    # Construct data frame\n",
    "    group_index = next(i for i, g in enumerate(group) if g == selected_group)\n",
    "    group_trans = pd.DataFrame(trans_mats[group_index])\n",
    "    group_usages = []\n",
    "\n",
    "    for key, value in usages[group_index].items():\n",
    "        group_usages.append([key, value])\n",
    "\n",
    "    group_usages = pd.DataFrame(group_usages)\n",
    "    group_usages.set_axis(['Syllable', 'Usage'], axis = 1, inplace = True)\n",
    "    \n",
    "  # Ensure path exist\n",
    "    if len(save_path) ==0:\n",
    "        save_path = base_dir\n",
    "        print(\"Dataframe will be saved to\", save_path)\n",
    "    else:\n",
    "        try:\n",
    "            assert exists(save_path)\n",
    "            print(\"Dataframe will be saved to\", save_path)\n",
    "        except AssertionError:\n",
    "            save_path = base_dir\n",
    "            print('This is not a valid path. Dataframe csv will be saved to base_dir')\n",
    "    \n",
    "    group_trans.to_csv(join(save_path,selected_group+'_trans.csv'), index=False)\n",
    "    group_usages.to_csv(join(save_path,selected_group+'_usage.csv'), index=False)\n",
    "    print('Dataframe is saved')"
   ]
  },
  {
   "cell_type": "markdown",
   "metadata": {},
   "source": [
    "## Interactive Syllable Transition Graph Tool\n",
    "Use this tool to explore the behavioral transitions of your modeled groups, such as bigrams/trigrams or different usage/transition probability given certain thresholds. You can find more information in the [wiki](https://github.com/dattalab/moseq2-app/wiki/Interactive-Model-Results-Exploration-Notebook-Instructions#syllable-transition-analysis).\n",
    "\n",
    "**Instructions:**\n",
    "- Run the following cell to launch the Interactive Syllable Transition Graphing Tool.\n",
    "- **Select the parameter(s)** from the dropdown menus to control the graph.\n",
    "- **Hover over the edges and nodes** to display the edge colors and syllable info.\n",
    "**Note: Nodes outside the threshold will be hidden.**"
   ]
  },
  {
   "cell_type": "markdown",
   "metadata": {},
   "source": [
    "Run this cell to display the entire view in the cell output"
   ]
  },
  {
   "cell_type": "code",
   "execution_count": null,
   "metadata": {},
   "outputs": [],
   "source": [
    "%%javascript\n",
    "IPython.OutputArea.prototype._should_scroll = function(lines) {\n",
    "    return false;\n",
    "}"
   ]
  },
  {
   "cell_type": "code",
   "execution_count": null,
   "metadata": {
    "scrolled": false
   },
   "outputs": [],
   "source": [
    "from moseq2_app.main import interactive_transition_graph\n",
    "\n",
    "max_syllables = None\n",
    "\n",
    "interactive_transition_graph(progress_paths, max_syllables=max_syllables, plot_vertically=True, load_parquet=True)"
   ]
  },
  {
   "cell_type": "markdown",
   "metadata": {},
   "source": [
    "***\n",
    "\n",
    "# Notebook End \n",
    "\n",
    "# User Survey\n",
    "\n",
    "Please take some time to tell us your thoughts about this notebook:\n",
    "**[user feedback survey](https://forms.gle/FbtEN8E382y8jF3p6)**"
   ]
  }
 ],
 "metadata": {
  "interpreter": {
   "hash": "26f1ca58f10dce979f683630f0fb9afc134f48fdbd325a092a0290dceb8d2c85"
  },
  "kernelspec": {
   "display_name": "Python 3.7.10 64-bit ('moseq2-dev': conda)",
   "name": "python3"
  },
  "language_info": {
   "codemirror_mode": {
    "name": "ipython",
    "version": 3
   },
   "file_extension": ".py",
   "mimetype": "text/x-python",
   "name": "python",
   "nbconvert_exporter": "python",
   "pygments_lexer": "ipython3",
   "version": "3.7.10"
  },
  "pycharm": {
   "stem_cell": {
    "cell_type": "raw",
    "metadata": {
     "collapsed": false
    },
    "source": []
   }
  },
  "toc": {
   "base_numbering": 1,
   "nav_menu": {},
   "number_sections": true,
   "sideBar": true,
   "skip_h1_title": false,
   "title_cell": "Table of Contents",
   "title_sidebar": "Contents",
   "toc_cell": true,
   "toc_position": {
    "height": "calc(100% - 180px)",
    "left": "10px",
    "top": "150px",
    "width": "383.965px"
   },
   "toc_section_display": true,
   "toc_window_display": true
  },
  "varInspector": {
   "cols": {
    "lenName": 16,
    "lenType": 16,
    "lenVar": 40
   },
   "kernels_config": {
    "python": {
     "delete_cmd_postfix": "",
     "delete_cmd_prefix": "del ",
     "library": "var_list.py",
     "varRefreshCmd": "print(var_dic_list())"
    },
    "r": {
     "delete_cmd_postfix": ") ",
     "delete_cmd_prefix": "rm(",
     "library": "var_list.r",
     "varRefreshCmd": "cat(var_dic_list()) "
    }
   },
   "types_to_exclude": [
    "module",
    "function",
    "builtin_function_or_method",
    "instance",
    "_Feature"
   ],
   "window_display": false
  }
 },
 "nbformat": 4,
 "nbformat_minor": 4
}
