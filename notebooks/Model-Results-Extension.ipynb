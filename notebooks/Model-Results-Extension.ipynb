{
 "cells": [
  {
   "cell_type": "markdown",
   "metadata": {
    "toc": true
   },
   "source": [
    "<h1>Table of Contents<span class=\"tocSkip\"></span></h1>\n",
    "<div class=\"toc\"><ul class=\"toc-item\"><li><span><a href=\"#Import-All-Dependencies\" data-toc-modified-id=\"Import-All-Dependencies-1\"><span class=\"toc-item-num\">1&nbsp;&nbsp;</span>Import All Dependencies</a></span></li><li><span><a href=\"#Set-Paths-to-Model-and-Index-Files\" data-toc-modified-id=\"Set-Paths-to-Model-and-Index-Files-2\"><span class=\"toc-item-num\">2&nbsp;&nbsp;</span>Set Paths to Model and Index Files</a></span></li><li><span><a href=\"#Compute-Number-Of-Syllables-that-Explain-99%-of-the-Data's-Variance\" data-toc-modified-id=\"Compute-Number-Of-Syllables-that-Explain-99%-of-the-Data's-Variance-3\"><span class=\"toc-item-num\">3&nbsp;&nbsp;</span>Compute Number Of Syllables that Explain 99% of the Data's Variance</a></span></li><li><span><a href=\"#Compute-Syllable-Statistics\" data-toc-modified-id=\"Compute-Syllable-Statistics-4\"><span class=\"toc-item-num\">4&nbsp;&nbsp;</span>Compute Syllable Statistics</a></span><ul class=\"toc-item\"><li><span><a href=\"#Print-Dataset-Group-Counts\" data-toc-modified-id=\"Print-Dataset-Group-Counts-4.1\"><span class=\"toc-item-num\">4.1&nbsp;&nbsp;</span>Print Dataset Group Counts</a></span></li></ul></li><li><span><a href=\"#(Optional)-Load-Syllable-Labels\" data-toc-modified-id=\"(Optional)-Load-Syllable-Labels-5\"><span class=\"toc-item-num\">5&nbsp;&nbsp;</span>(Optional) Load Syllable Labels</a></span></li><li><span><a href=\"#Compute-Scalar-Means-(By-Group)-For-Each-Syllable\" data-toc-modified-id=\"Compute-Scalar-Means-(By-Group)-For-Each-Syllable-6\"><span class=\"toc-item-num\">6&nbsp;&nbsp;</span>Compute Scalar Means (By Group) For Each Syllable</a></span></li><li><span><a href=\"#Plot-Mean-Statistics-Sorted-By-Group-Difference\" data-toc-modified-id=\"Plot-Mean-Statistics-Sorted-By-Group-Difference-7\"><span class=\"toc-item-num\">7&nbsp;&nbsp;</span>Plot Mean Statistics Sorted By Group Difference</a></span></li><li><span><a href=\"#Compute-Syllable-Distance-Matrices\" data-toc-modified-id=\"Compute-Syllable-Distance-Matrices-8\"><span class=\"toc-item-num\">8&nbsp;&nbsp;</span>Compute Syllable Distance Matrices</a></span></li><li><span><a href=\"#Plot-Syllable-Distance-Dendrogram\" data-toc-modified-id=\"Plot-Syllable-Distance-Dendrogram-9\"><span class=\"toc-item-num\">9&nbsp;&nbsp;</span>Plot Syllable Distance Dendrogram</a></span></li><li><span><a href=\"#Plot-Behavioral-Distance-Matrix\" data-toc-modified-id=\"Plot-Behavioral-Distance-Matrix-10\"><span class=\"toc-item-num\">10&nbsp;&nbsp;</span>Plot Behavioral Distance Matrix</a></span></li><li><span><a href=\"#Compute-Syllable-Transition-Matrices\" data-toc-modified-id=\"Compute-Syllable-Transition-Matrices-11\"><span class=\"toc-item-num\">11&nbsp;&nbsp;</span>Compute Syllable Transition Matrices</a></span></li><li><span><a href=\"#Plot-Transition-Matrices\" data-toc-modified-id=\"Plot-Transition-Matrices-12\"><span class=\"toc-item-num\">12&nbsp;&nbsp;</span>Plot Transition Matrices</a></span></li><li><span><a href=\"#Plot-Computed-Transition-Graphs\" data-toc-modified-id=\"Plot-Computed-Transition-Graphs-13\"><span class=\"toc-item-num\">13&nbsp;&nbsp;</span>Plot Computed Transition Graphs</a></span></li><li><span><a href=\"#Plot-and-Compare-Group-Syllable-Entropy-Rate-Distributions\" data-toc-modified-id=\"Plot-and-Compare-Group-Syllable-Entropy-Rate-Distributions-14\"><span class=\"toc-item-num\">14&nbsp;&nbsp;</span>Plot and Compare Group Syllable Entropy Rate Distributions</a></span></li><li><span><a href=\"#Plot-and-Compare-Bootstrapped-Scalar-Metric-Means\" data-toc-modified-id=\"Plot-and-Compare-Bootstrapped-Scalar-Metric-Means-15\"><span class=\"toc-item-num\">15&nbsp;&nbsp;</span>Plot and Compare Bootstrapped Scalar Metric Means</a></span></li><li><span><a href=\"#Hypothesis-Testing\" data-toc-modified-id=\"Hypothesis-Testing-16\"><span class=\"toc-item-num\">16&nbsp;&nbsp;</span>Hypothesis Testing</a></span><ul class=\"toc-item\"><li><span><a href=\"#Syllables\" data-toc-modified-id=\"Syllables-16.1\"><span class=\"toc-item-num\">16.1&nbsp;&nbsp;</span>Syllables</a></span><ul class=\"toc-item\"><li><span><a href=\"#Kruskal-Wallis-and-Dunn's-Hypothesis-Tests\" data-toc-modified-id=\"Kruskal-Wallis-and-Dunn's-Hypothesis-Tests-16.1.1\"><span class=\"toc-item-num\">16.1.1&nbsp;&nbsp;</span>Kruskal-Wallis and Dunn's Hypothesis Tests</a></span></li><li><span><a href=\"#Plot-Marked-Significant-Syllables\" data-toc-modified-id=\"Plot-Marked-Significant-Syllables-16.1.2\"><span class=\"toc-item-num\">16.1.2&nbsp;&nbsp;</span>Plot Marked Significant Syllables</a></span></li><li><span><a href=\"#Pairwise-Hypothesis-Tests-(2-Groups)\" data-toc-modified-id=\"Pairwise-Hypothesis-Tests-(2-Groups)-16.1.3\"><span class=\"toc-item-num\">16.1.3&nbsp;&nbsp;</span>Pairwise Hypothesis Tests (2-Groups)</a></span></li><li><span><a href=\"#Plot-Marked-Significant-Syllables\" data-toc-modified-id=\"Plot-Marked-Significant-Syllables-16.1.4\"><span class=\"toc-item-num\">16.1.4&nbsp;&nbsp;</span>Plot Marked Significant Syllables</a></span></li></ul></li><li><span><a href=\"#Scalar-(2-Group)-Pairwise-Hypothesis-Test\" data-toc-modified-id=\"Scalar-(2-Group)-Pairwise-Hypothesis-Test-16.2\"><span class=\"toc-item-num\">16.2&nbsp;&nbsp;</span>Scalar (2-Group) Pairwise Hypothesis Test</a></span></li></ul></li><li><span><a href=\"#Syllable-Statistic-Based-Group-Classifer\" data-toc-modified-id=\"Syllable-Statistic-Based-Group-Classifer-17\"><span class=\"toc-item-num\">17&nbsp;&nbsp;</span>Syllable Statistic Based Group Classifer</a></span></li><li><span><a href=\"#Embed-Groups\" data-toc-modified-id=\"Embed-Groups-18\"><span class=\"toc-item-num\">18&nbsp;&nbsp;</span>Embed Groups</a></span></li></ul></div>"
   ]
  },
  {
   "cell_type": "markdown",
   "metadata": {},
   "source": [
    "# Overview\n",
    "\n",
    "The purpose of this Jupyter Notebook is showcase how to use core components of the MoSeq2 codebases to load and organize datasets and models, run statistics, and visualize the results.\n",
    "\n",
    "To use this notebook, you will need:\n",
    "- An Index File - `moseq2-index.yaml`\n",
    "- A Trained MoSeq2 Model - `model.p`\n",
    "- (Optional) A Syllable Info File - `syll_info.yaml` [Can be used to display syllable labels in your syllable stat plots]\n",
    "\n",
    "Use this notebook to gain a better understanding of the ARHMM model object contents, how the syllable labels are loaded and processed, and further how to use multiple model attributes to gain an understanding of the model state relationships, etc. "
   ]
  },
  {
   "cell_type": "markdown",
   "metadata": {},
   "source": [
    "## Import All Dependencies"
   ]
  },
  {
   "cell_type": "code",
   "execution_count": null,
   "metadata": {},
   "outputs": [],
   "source": [
    "# Syllable Statistics Dependencies\n",
    "import matplotlib.pyplot as plt\n",
    "%matplotlib inline\n",
    "import ruamel.yaml as yaml\n",
    "from os.path import exists\n",
    "from moseq2_viz.util import parse_index\n",
    "from moseq2_viz.scalars.util import scalars_to_dataframe\n",
    "from moseq2_viz.viz import (plot_syll_stats_with_sem, plot_group_entropy_rate_distributions)\n",
    "from moseq2_viz.model.util import (compute_behavioral_statistics, compute_syllable_explained_variance)\n",
    "\n",
    "# Behavioral Distance Dependencies\n",
    "from scipy.cluster.hierarchy import linkage, dendrogram\n",
    "from moseq2_viz.model.dist import get_behavioral_distance\n",
    "\n",
    "# Transition Matrices Compute/Graphing Dependencies\n",
    "from moseq2_viz.model.util import parse_model_results, relabel_by_usage\n",
    "from moseq2_viz.model.trans_graph import get_trans_graph_groups, get_group_trans_mats, graph_transition_matrix\n",
    "\n",
    "# Hypothesis Testing Dependencies\n",
    "import numpy as np\n",
    "from moseq2_viz.model.stat import run_kruskal, run_pairwise_stats, run_pairwise_scalar_stats\n",
    "\n",
    "# Embedding Dependencies\n",
    "from moseq2_viz.model.embed import run_2d_embedding\n",
    "\n",
    "# Stratified Classifier Dependencies\n",
    "from moseq2_viz.model.classifier import run_classifier\n",
    "\n",
    "# Bootstrapped Scalar Statistics for Violin Plots\n",
    "from moseq2_viz.viz import plot_group_violin_plots\n",
    "from moseq2_viz.scalars.util import compute_group_scalar_mean_df"
   ]
  },
  {
   "cell_type": "markdown",
   "metadata": {},
   "source": [
    "## Set Paths to Model and Index Files"
   ]
  },
  {
   "cell_type": "code",
   "execution_count": null,
   "metadata": {},
   "outputs": [],
   "source": [
    "index_path = './moseq2-index.yaml'\n",
    "model_path = './saline-amphetamine/model.p'\n",
    "_, sorted_index = parse_index(index_path)"
   ]
  },
  {
   "cell_type": "markdown",
   "metadata": {},
   "source": [
    "## Compute Number Of Syllables that Explain 99% of the Data's Variance\n",
    "- Use this cell to determine the maximum number of syllables to include in your analysis.\n",
    "<img src=\"https://drive.google.com/uc?export=view&id=1YCTRG7zjZK67A_6ChhPngXJhwf51kd-U\">\n"
   ]
  },
  {
   "cell_type": "code",
   "execution_count": null,
   "metadata": {},
   "outputs": [],
   "source": [
    "model_data = parse_model_results(model_path)\n",
    "model_data['labels'] = relabel_by_usage(model_data['labels'], count='usage')[0]\n",
    "max_syllable = compute_syllable_explained_variance(model_data, n_explained=99)"
   ]
  },
  {
   "cell_type": "markdown",
   "metadata": {},
   "source": [
    "## Compute Syllable Statistics\n",
    "\n",
    "This cell will produce 2 dataframes: `scalar_df` and `mean_df`.\n",
    " - `scalar_df` is a vertically stacked dataframe of scalar values measured during the extraction step, aligned with the model_labels and timestamps. The shape would be (sum_of_session_frames, 31). To view all the measured scalars, print(scalar_df.columns)\n",
    "   - This dataframe can be used to plot the scalar feature values for any session over time.\n",
    " - `mean_df` is a dataframe of the average syllable-scalar values for all the features included in `scalar_df` grouped by the resorted syllable labels, model groups and uuids.\n",
    "   - This dataframe will be used to plot mean syllable statistics and perform hypothesis testing."
   ]
  },
  {
   "cell_type": "code",
   "execution_count": null,
   "metadata": {},
   "outputs": [],
   "source": [
    "_, sorted_index = parse_index(index_path)\n",
    "\n",
    "# compute session scalar data\n",
    "scalar_df = scalars_to_dataframe(sorted_index, model_path=model_path)\n",
    "\n",
    "# compute syllable usage and scalar statistics\n",
    "mean_df = compute_behavioral_statistics(scalar_df, count='usage', groupby=['group', 'uuid'], usage_normalization=True)"
   ]
  },
  {
   "cell_type": "markdown",
   "metadata": {},
   "source": [
    "### Print Dataset Group Counts\n",
    "The following cell will display the total number of sessions included in each modeling group."
   ]
  },
  {
   "cell_type": "code",
   "execution_count": null,
   "metadata": {},
   "outputs": [],
   "source": [
    "mean_df.groupby(['group', 'uuid'], as_index=False).mean()['group'].value_counts()"
   ]
  },
  {
   "cell_type": "markdown",
   "metadata": {},
   "source": [
    "## (Optional) Load Syllable Labels\n",
    "\n",
    "The `syll_info` variable is a dictionary of syllable numbers, each mapped to a dict containing the syllable's `label`, `desc`, and `crowd_movie_path`.\n",
    "- To generate a `syll_info.yaml` file, use the Syllable Labeler tool in the [`Interactive-Model-Results.ipynb`](./Interactive-Model-Results-Exploration.ipynb)."
   ]
  },
  {
   "cell_type": "code",
   "execution_count": null,
   "metadata": {},
   "outputs": [],
   "source": [
    "syll_info_path = './saline-amphetamine/syll_info.yaml'\n",
    "\n",
    "if exists(syll_info_path):\n",
    "    with open(syll_info_path, 'r') as f:\n",
    "        syll_info = yaml.safe_load(f)\n",
    "else:\n",
    "    syll_info = None"
   ]
  },
  {
   "cell_type": "markdown",
   "metadata": {},
   "source": [
    "## Compute Scalar Means (By Group) For Each Syllable\n",
    "\n",
    "<img src=\"https://drive.google.com/uc?export=view&id=1zD2M1Iyko2aQx5xmxTBtkADEt5wQvbIC\" width=700 height=400>"
   ]
  },
  {
   "cell_type": "code",
   "execution_count": null,
   "metadata": {},
   "outputs": [],
   "source": [
    "stat = 'usage'\n",
    "\n",
    "unique_groups = mean_df.group.unique()\n",
    "\n",
    "plot_syll_stats_with_sem(mean_df, \n",
    "                         syll_info=syll_info, # replace with syll_info variable if label dict was loaded\n",
    "                         stat=stat,\n",
    "                         ordering='stat',\n",
    "                         max_sylls=max_syllable,\n",
    "                         groups=unique_groups,\n",
    "                         ctrl_group=None,\n",
    "                         exp_group=None,\n",
    "                         colors=None,\n",
    "                         join=True,\n",
    "                         figsize=(15,7))"
   ]
  },
  {
   "cell_type": "markdown",
   "metadata": {},
   "source": [
    "## Plot Mean Statistics Sorted By Group Difference\n",
    "\n",
    "<img src=\"https://drive.google.com/uc?export=view&id=18-YZyqJM6aBVE6FcSNzpQdklBFaWFLf6\" width=700 height=400>"
   ]
  },
  {
   "cell_type": "code",
   "execution_count": null,
   "metadata": {},
   "outputs": [],
   "source": [
    "# statistic to plot\n",
    "stat = 'usage'\n",
    "\n",
    "# groups to get difference\n",
    "group1 = 'Saline'\n",
    "group2 = 'Amphetamine'\n",
    "\n",
    "unique_groups = mean_df.group.unique()\n",
    "\n",
    "plot_syll_stats_with_sem(mean_df, \n",
    "                         syll_info=syll_info, # replace with syll_info variable if label dict was loaded\n",
    "                         stat=stat, # choose any of the df columns\n",
    "                         ordering='diff',\n",
    "                         max_sylls=max_syllable,\n",
    "                         groups=unique_groups,\n",
    "                         ctrl_group=group1,\n",
    "                         exp_group=group2,\n",
    "                         colors=None,\n",
    "                         join=True,\n",
    "                         figsize=(15,7))"
   ]
  },
  {
   "cell_type": "markdown",
   "metadata": {},
   "source": [
    "## Compute Syllable Distance Matrices\n",
    "\n",
    "Compute the distance between the set of ARHMM states with respect to a different model and/or data attributes. The distances will be used to order the states within the hierarchical clustering (dendrogram) below."
   ]
  },
  {
   "cell_type": "code",
   "execution_count": null,
   "metadata": {},
   "outputs": [],
   "source": [
    "# Get Pairwise distances\n",
    "distance = 'ar[init]' # options: ['ar[dtw]', 'scalars', 'pca[dtw]', 'combined']\n",
    "\n",
    "X = get_behavioral_distance(sorted_index,\n",
    "                            model_path,\n",
    "                            max_syllable=max_syllable,\n",
    "                            distances=[distance])[distance]"
   ]
  },
  {
   "cell_type": "markdown",
   "metadata": {},
   "source": [
    "## Plot Syllable Distance Dendrogram\n",
    "\n",
    "<img src=\"https://drive.google.com/uc?export=view&id=14oRWhklJWUj0SLnEjwlVWyFx2y6idYY5\" width=700 height=400>"
   ]
  },
  {
   "cell_type": "code",
   "execution_count": null,
   "metadata": {},
   "outputs": [],
   "source": [
    "%matplotlib inline\n",
    "\n",
    "fig, ax = plt.subplots(1, 1, figsize=(15, 7))\n",
    "\n",
    "# function that displays syllable labels for each leaf\n",
    "def llf(xx):\n",
    "    if syll_info is not None:\n",
    "        return f\"{syll_info[xx]['label']} - {xx}\"\n",
    "    else:\n",
    "        return xx\n",
    "\n",
    "# Compute linkage matrix with respect to a selected precomputed metric\n",
    "Z = linkage(np.nan_to_num(X), 'complete')\n",
    "results = dendrogram(Z, distance_sort=False, get_leaves=True, ax=ax, color_threshold=0, leaf_label_func=llf)\n",
    "similarity_ordering = results['leaves']"
   ]
  },
  {
   "cell_type": "markdown",
   "metadata": {},
   "source": [
    "## Plot Behavioral Distance Matrix\n",
    "<img src=\"https://drive.google.com/uc?export=view&id=1Ql0__foRxFO65IK5pGyVSVXl1PuP1fkT\">"
   ]
  },
  {
   "cell_type": "code",
   "execution_count": null,
   "metadata": {},
   "outputs": [],
   "source": [
    "fig, ax = plt.subplots(1)\n",
    "h = ax.imshow(X, aspect='equal', cmap='cubehelix')\n",
    "ax.set_title('Behavioral distance')\n",
    "ax.set_xlabel('Syllable j')\n",
    "ax.set_ylabel('Syllable i')\n",
    "plt.colorbar(h, ax=ax)\n",
    "plt.show()"
   ]
  },
  {
   "cell_type": "markdown",
   "metadata": {},
   "source": [
    "## Compute Syllable Transition Matrices\n",
    "\n",
    "Note this this code block is loading the model from the `model_path`, and is __not__ using the `mean_df` variable.\n",
    "\n",
    "- `model_data` (dict): dictionary containing all model data.\n",
    "- `labels` (list of 1D-arrays): list of label predictions for each session that the model was trained on.\n",
    "- `label_group` (list of strs): list of group names corresponding to each index in the `labels` variable.\n",
    "- `group` (list of strs): list of all unique group names in `label_groups`.\n",
    "\n",
    "\n",
    "- `trans_mats` (list of 2D arrays): transition matrices for each group, corresponding to each index in `group`.\n",
    "- `usages` (list of OrderedDicts): syllable usage ratios for each group, corresponding to each index in `trans_mats` and `group`."
   ]
  },
  {
   "cell_type": "code",
   "execution_count": null,
   "metadata": {},
   "outputs": [],
   "source": [
    "# load your model\n",
    "model_data = parse_model_results(model_path)\n",
    "\n",
    "# select a transition matrix normalization method\n",
    "normalize = 'bigram' # other options: 'columns', 'rows'\n",
    "\n",
    "# Get labels and relabel them by usage sorting\n",
    "labels = model_data['labels']\n",
    "labels = relabel_by_usage(labels, count='usage')[0]\n",
    "\n",
    "# Get modeled session uuids to compute group-mean transition graph for\n",
    "label_group, uuids = get_trans_graph_groups(model_data)\n",
    "group = list(set(label_group))\n",
    "\n",
    "# compute transition matrices and usages for each group\n",
    "trans_mats, usages = get_group_trans_mats(labels, label_group, group, max_syllable, normalize=normalize)"
   ]
  },
  {
   "cell_type": "markdown",
   "metadata": {},
   "source": [
    "## Plot Transition Matrices\n",
    "<img src=\"https://drive.google.com/uc?export=view&id=1TR-8pysVOqfDWAr-915_Ouvp1dZCAi1u\" width=600 height=400>"
   ]
  },
  {
   "cell_type": "code",
   "execution_count": null,
   "metadata": {},
   "outputs": [],
   "source": [
    "fig, ax = plt.subplots(1, len(group), figsize=(12, 8), sharex=False, sharey=True)\n",
    "\n",
    "for i, g in enumerate(group):\n",
    "    h = ax[i].imshow(trans_mats[i][:max_syllable,:max_syllable], cmap='magma')\n",
    "    plt.colorbar(h, ax=ax[i], fraction=0.046, pad=0.04)\n",
    "    ax[i].set_xlabel('Syllable j')\n",
    "    ax[i].set_ylabel('Syllable i')\n",
    "    ax[i].set_title(f'{g}: Bigram Transition Probabilities')"
   ]
  },
  {
   "cell_type": "markdown",
   "metadata": {},
   "source": [
    "## Plot Computed Transition Graphs\n",
    "\n",
    "- <font color=\"red\">Red nodes and edges</font> in the difference graph indicate upregulated syllable usages/transition probabilities in group 1 respectively.\n",
    "- <font color='blue'>Blue nodes and edges</font> in the difference graph indicate upregulated syllable usages/transition probabilities in group 2 respectively.\n",
    "- Where in the example below, the groups in the difference graph are: group 1 = Saline; group 2 = Amphetamine.\n",
    "\n",
    "<img src=\"https://drive.google.com/uc?export=view&id=14WQToCK9SgZgsJoEYRmqMcQ2ZUZfmz-V\" width=500 height=400>"
   ]
  },
  {
   "cell_type": "code",
   "execution_count": null,
   "metadata": {},
   "outputs": [],
   "source": [
    "fig, _, _ = graph_transition_matrix(trans_mats,\n",
    "                                    layout='spring', # or: 'circular', 'spectral'\n",
    "                                    usages=usages,\n",
    "                                    groups=group,\n",
    "                                    arrows=True,\n",
    "                                    headless=True)"
   ]
  },
  {
   "cell_type": "markdown",
   "metadata": {},
   "source": [
    "## Plot and Compare Group Syllable Entropy Rate Distributions\n",
    "\n",
    "<img src=\"https://drive.google.com/uc?export=view&id=1IpXUVWuK_h09MGGscADURUE4yjQOYr_p\">"
   ]
  },
  {
   "cell_type": "code",
   "execution_count": null,
   "metadata": {},
   "outputs": [],
   "source": [
    "# order of groups to display\n",
    "order = None\n",
    "\n",
    "figsize = (10, 7)\n",
    "\n",
    "# True -> Entropy Rate; False -> Entropy.\n",
    "rate = True\n",
    "\n",
    "# test type: [t-test_ind, t-test_welch, t-test_paired, Mann-Whitney, Mann-Whitney-gt, Mann-Whitney-ls]\n",
    "test = 'Kruskal' \n",
    "\n",
    "er_fig, er_ax = plot_group_entropy_rate_distributions(labels, \n",
    "                                                      group,\n",
    "                                                      label_group, \n",
    "                                                      order=order, \n",
    "                                                      rate=rate,\n",
    "                                                      test=test,\n",
    "                                                      figsize=figsize)"
   ]
  },
  {
   "cell_type": "markdown",
   "metadata": {},
   "source": [
    "## Plot and Compare Bootstrapped Scalar Metric Means\n",
    "\n",
    "<img src=\"https://drive.google.com/uc?export=view&id=1Rc407Zw7hwv0FwlhhF6LrowtetiCYTAD\">"
   ]
  },
  {
   "cell_type": "code",
   "execution_count": null,
   "metadata": {},
   "outputs": [],
   "source": [
    "stat = 'velocity_2d_mm'\n",
    "n_boots = 10000\n",
    "\n",
    "thresh = None # or use a 2-tuple representing [min, max] values to plot\n",
    "order = None\n",
    "\n",
    "# test type: [t-test_ind, t-test_welch, t-test_paired, Mann-Whitney, Mann-Whitney-gt, Mann-Whitney-ls]\n",
    "test = 'Kruskal' \n",
    "\n",
    "group_stat_df = compute_group_scalar_mean_df(scalar_df,\n",
    "                                             stat=stat,\n",
    "                                             n_boots=n_boots,\n",
    "                                             thresh=thresh)\n",
    "\n",
    "fig, ax = plot_group_violin_plots(group_stat_df, \n",
    "                                  stat=stat, \n",
    "                                  test=test,\n",
    "                                  order=order, \n",
    "                                  figsize=(10, 7))"
   ]
  },
  {
   "cell_type": "markdown",
   "metadata": {},
   "source": [
    "## Hypothesis Testing\n",
    "\n",
    "In this section, the following cells will compute then visualize the pairwise comparisons between the modeling groups to \"significant syllables\", indicating syllables with statistically significantly differences in the selected statistic. \n",
    "\n",
    "Additionaly, compute statistical significant differences between groups based on their scalar metrics.\n",
    "\n",
    "\n",
    "### Syllables"
   ]
  },
  {
   "cell_type": "markdown",
   "metadata": {},
   "source": [
    "#### Kruskal-Wallis and Dunn's Hypothesis Tests"
   ]
  },
  {
   "cell_type": "code",
   "execution_count": null,
   "metadata": {},
   "outputs": [],
   "source": [
    "# Set KW Constants\n",
    "seed = 42\n",
    "thresh = 0.05\n",
    "n_perm = 10000\n",
    "statistic = 'usage'\n",
    "mc_method = \"fdr_bh\"\n",
    "\n",
    "kruskal_results_df, dunn_results_df, intersect_sig_syllables = run_kruskal(mean_df, \n",
    "                                                                           statistic=statistic,\n",
    "                                                                           max_syllable=max_syllable,\n",
    "                                                                           n_perm=n_perm,\n",
    "                                                                           seed=seed,\n",
    "                                                                           thresh=thresh,\n",
    "                                                                           mc_method=mc_method)"
   ]
  },
  {
   "cell_type": "markdown",
   "metadata": {},
   "source": [
    "#### Plot Marked Significant Syllables\n",
    "<img src=\"https://drive.google.com/uc?export=view&id=1D0qXx1VHPdCkiWWQ05pwrm6HJFRgwjqM\" width=700 height=400>"
   ]
  },
  {
   "cell_type": "code",
   "execution_count": null,
   "metadata": {},
   "outputs": [],
   "source": [
    "# groups to get difference\n",
    "group1 = 'Amphetamine'\n",
    "group2 = 'Saline'\n",
    "\n",
    "unique_groups = mean_df.group.unique()\n",
    "\n",
    "plot_syll_stats_with_sem(mean_df, \n",
    "                         syll_info=syll_info, # replace with syll_info variable if label dict was loaded\n",
    "                         sig_sylls=intersect_sig_syllables[(group1, group2)],\n",
    "                         stat=statistic, # choose any of the df columns\n",
    "                         ordering='diff',\n",
    "                         max_sylls=max_syllable,\n",
    "                         groups=unique_groups,\n",
    "                         ctrl_group=group1,\n",
    "                         exp_group=group2,\n",
    "                         colors=None,\n",
    "                         join=True,\n",
    "                         figsize=(15,7))"
   ]
  },
  {
   "cell_type": "markdown",
   "metadata": {},
   "source": [
    "#### Pairwise Hypothesis Tests (2-Groups)"
   ]
  },
  {
   "cell_type": "code",
   "execution_count": null,
   "metadata": {
    "pycharm": {
     "is_executing": false
    }
   },
   "outputs": [],
   "source": [
    "# Set pairwise test groups\n",
    "group1 = 'Saline'\n",
    "group2 = 'Amphetamine'\n",
    "\n",
    "# Set test-type; must be one of [\"mw\", \"z_test\", \"t_test\"]\n",
    "test_type = 'mw'\n",
    "\n",
    "df_sig = run_pairwise_stats(mean_df,\n",
    "                            group1,\n",
    "                            group2,\n",
    "                            test_type=test_type, \n",
    "                            statistic=statistic,\n",
    "                            max_syllable=max_syllable,\n",
    "                            thresh=thresh)"
   ]
  },
  {
   "cell_type": "markdown",
   "metadata": {},
   "source": [
    "#### Plot Marked Significant Syllables"
   ]
  },
  {
   "cell_type": "code",
   "execution_count": null,
   "metadata": {},
   "outputs": [],
   "source": [
    "unique_groups = mean_df.group.unique()\n",
    "\n",
    "plot_syll_stats_with_sem(mean_df, \n",
    "                         syll_info=syll_info,\n",
    "                         sig_sylls=sig_sylls,\n",
    "                         stat=statistic, # choose any of the df columns\n",
    "                         ordering='diff',\n",
    "                         max_sylls=max_syllable,\n",
    "                         groups=unique_groups,\n",
    "                         ctrl_group=group1,\n",
    "                         exp_group=group2,\n",
    "                         colors=None,\n",
    "                         join=True,\n",
    "                         figsize=(15,7))"
   ]
  },
  {
   "cell_type": "markdown",
   "metadata": {},
   "source": [
    "### Scalar (2-Group) Pairwise Hypothesis Test"
   ]
  },
  {
   "cell_type": "code",
   "execution_count": null,
   "metadata": {},
   "outputs": [],
   "source": [
    "# Set pairwise test groups\n",
    "group1 = 'Saline'\n",
    "group2 = 'Amphetamine'\n",
    "\n",
    "# Set test-type; must be one of [\"mw\", \"z_test\", \"t_test\"]\n",
    "test_type = 'z_test'\n",
    "\n",
    "# Column from scalar_df to run pairwise comparison on\n",
    "statistic = 'velocity_2d_mm'\n",
    "\n",
    "df_scalar_sig = run_pairwise_scalar_stats(scalar_df, \n",
    "                                          group1, \n",
    "                                          group2,\n",
    "                                          statistic=statistic,\n",
    "                                          test_type=test_type)\n",
    "df_scalar_sig"
   ]
  },
  {
   "cell_type": "markdown",
   "metadata": {},
   "source": [
    "## Syllable Statistic Based Group Classifer\n",
    "<img src=\"https://drive.google.com/uc?export=view&id=1hjzs5jMJ01fvmNKxj-8P9PrEINY2O6TI\" width=500 height=400>"
   ]
  },
  {
   "cell_type": "code",
   "execution_count": null,
   "metadata": {},
   "outputs": [],
   "source": [
    "# path to save plotted confusion matrix figure\n",
    "output_file = 'confusion_matrix.pdf'\n",
    "\n",
    "# statistic to train classifier\n",
    "stat = 'usage'\n",
    "\n",
    "# normalize transition graph color scale\n",
    "normalize = True\n",
    "\n",
    "return_dict, fig, ax = run_classifier(mean_df, \n",
    "                                      stat=stat,\n",
    "                                      output_file=output_file,\n",
    "                                      normalize=normalize)"
   ]
  },
  {
   "cell_type": "markdown",
   "metadata": {},
   "source": [
    "## Embed Groups"
   ]
  },
  {
   "cell_type": "code",
   "execution_count": null,
   "metadata": {},
   "outputs": [],
   "source": [
    "# path to save outputted 2d embedding\n",
    "output_file = '2d_embedding.pdf'\n",
    "\n",
    "# select stat to embed\n",
    "stat = 'usage'\n",
    "\n",
    "# Set embedding type; must be either ['LDA', 'PCA']\n",
    "embedding = 'LDA' \n",
    "\n",
    "fig, ax = run_2d_embedding(mean_df, \n",
    "                           stat=stat, \n",
    "                           output_file=output_file, \n",
    "                           embedding=embedding)"
   ]
  },
  {
   "cell_type": "markdown",
   "metadata": {
    "pycharm": {
     "name": "#%% md\n"
    }
   },
   "source": [
    "***\n"
   ]
  }
 ],
 "metadata": {
  "kernelspec": {
   "display_name": "Python 3",
   "language": "python",
   "name": "python3"
  },
  "language_info": {
   "codemirror_mode": {
    "name": "ipython",
    "version": 3
   },
   "file_extension": ".py",
   "mimetype": "text/x-python",
   "name": "python",
   "nbconvert_exporter": "python",
   "pygments_lexer": "ipython3",
   "version": "3.7.7"
  },
  "pycharm": {
   "stem_cell": {
    "cell_type": "raw",
    "metadata": {
     "collapsed": false
    },
    "source": []
   }
  },
  "toc": {
   "base_numbering": 1,
   "nav_menu": {},
   "number_sections": true,
   "sideBar": true,
   "skip_h1_title": true,
   "title_cell": "Table of Contents",
   "title_sidebar": "Contents",
   "toc_cell": true,
   "toc_position": {},
   "toc_section_display": true,
   "toc_window_display": false
  },
  "varInspector": {
   "cols": {
    "lenName": 16,
    "lenType": 16,
    "lenVar": 40
   },
   "kernels_config": {
    "python": {
     "delete_cmd_postfix": "",
     "delete_cmd_prefix": "del ",
     "library": "var_list.py",
     "varRefreshCmd": "print(var_dic_list())"
    },
    "r": {
     "delete_cmd_postfix": ") ",
     "delete_cmd_prefix": "rm(",
     "library": "var_list.r",
     "varRefreshCmd": "cat(var_dic_list()) "
    }
   },
   "types_to_exclude": [
    "module",
    "function",
    "builtin_function_or_method",
    "instance",
    "_Feature"
   ],
   "window_display": false
  }
 },
 "nbformat": 4,
 "nbformat_minor": 4
}
