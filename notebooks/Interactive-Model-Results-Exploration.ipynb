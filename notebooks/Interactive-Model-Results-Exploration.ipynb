{
 "cells": [
  {
   "cell_type": "markdown",
   "metadata": {
    "toc": true
   },
   "source": [
    "<h1>Table of Contents<span class=\"tocSkip\"></span></h1>\n",
    "<div class=\"toc\"><ul class=\"toc-item\"><li><span><a href=\"#Project-setup\" data-toc-modified-id=\"Project-setup-1\"><span class=\"toc-item-num\">1&nbsp;&nbsp;</span>Project setup</a></span><ul class=\"toc-item\"><li><span><a href=\"#Files-and-Directory-Structure\" data-toc-modified-id=\"Files-and-Directory-Structure-1.1\"><span class=\"toc-item-num\">1.1&nbsp;&nbsp;</span>Files and Directory Structure</a></span></li><li><span><a href=\"#Load-Progress\" data-toc-modified-id=\"Load-Progress-1.2\"><span class=\"toc-item-num\">1.2&nbsp;&nbsp;</span>Load Progress</a></span></li><li><span><a href=\"#Getting-Best-Model-Fit\" data-toc-modified-id=\"Getting-Best-Model-Fit-1.3\"><span class=\"toc-item-num\">1.3&nbsp;&nbsp;</span>Getting Best Model Fit</a></span></li><li><span><a href=\"#[OPTIONAL]-Specify-Paths-to-Specific-Model\" data-toc-modified-id=\"[OPTIONAL]-Specify-Paths-to-Specific-Model-1.4\"><span class=\"toc-item-num\">1.4&nbsp;&nbsp;</span>[OPTIONAL] Specify Paths to Specific Model</a></span></li></ul></li><li><span><a href=\"#Compute-Syllable-Statistics\" data-toc-modified-id=\"Compute-Syllable-Statistics-2\"><span class=\"toc-item-num\">2&nbsp;&nbsp;</span>Compute Syllable Statistics</a></span><ul class=\"toc-item\"><li><span><a href=\"#Compute-scalar_df\" data-toc-modified-id=\"Compute-scalar_df-2.1\"><span class=\"toc-item-num\">2.1&nbsp;&nbsp;</span>Compute <code>scalar_df</code></a></span></li><li><span><a href=\"#Export-scalar_df\" data-toc-modified-id=\"Export-scalar_df-2.2\"><span class=\"toc-item-num\">2.2&nbsp;&nbsp;</span>Export <code>scalar_df</code></a></span></li><li><span><a href=\"#Compute-mean_df\" data-toc-modified-id=\"Compute-mean_df-2.3\"><span class=\"toc-item-num\">2.3&nbsp;&nbsp;</span>Compute <code>mean_df</code></a></span></li><li><span><a href=\"#Export-mean_df\" data-toc-modified-id=\"Export-mean_df-2.4\"><span class=\"toc-item-num\">2.4&nbsp;&nbsp;</span>Export <code>mean_df</code></a></span></li></ul></li><li><span><a href=\"#Interactive-Syllable-Labelling-Tool\" data-toc-modified-id=\"Interactive-Syllable-Labelling-Tool-3\"><span class=\"toc-item-num\">3&nbsp;&nbsp;</span>Interactive Syllable Labelling Tool</a></span></li><li><span><a href=\"#Interactive-Syllable-Statistics-Graphing\" data-toc-modified-id=\"Interactive-Syllable-Statistics-Graphing-4\"><span class=\"toc-item-num\">4&nbsp;&nbsp;</span>Interactive Syllable Statistics Graphing</a></span></li><li><span><a href=\"#Compute-Syllable-Transition-Matrices\" data-toc-modified-id=\"Compute-Syllable-Transition-Matrices-5\"><span class=\"toc-item-num\">5&nbsp;&nbsp;</span>Compute Syllable Transition Matrices</a></span><ul class=\"toc-item\"><li><span><a href=\"#Export-Transition-Matrices-and-usages\" data-toc-modified-id=\"Export-Transition-Matrices-and-usages-5.1\"><span class=\"toc-item-num\">5.1&nbsp;&nbsp;</span>Export Transition Matrices and usages</a></span></li><li><span><a href=\"#Interactive-Syllable-Transition-Graph-Tool\" data-toc-modified-id=\"Interactive-Syllable-Transition-Graph-Tool-5.2\"><span class=\"toc-item-num\">5.2&nbsp;&nbsp;</span>Interactive Syllable Transition Graph Tool</a></span></li></ul></li><li><span><a href=\"#Notebook-End\" data-toc-modified-id=\"Notebook-End-6\"><span class=\"toc-item-num\">6&nbsp;&nbsp;</span>Notebook End</a></span></li><li><span><a href=\"#User-Survey\" data-toc-modified-id=\"User-Survey-7\"><span class=\"toc-item-num\">7&nbsp;&nbsp;</span>User Survey</a></span></li></ul></div>"
   ]
  },
  {
   "cell_type": "markdown",
   "metadata": {},
   "source": [
    "# Project setup\n",
    "\n",
    "## Files and Directory Structure\n",
    "To run this notebook, you need the following files in your data directory:\n",
    "- `progress.yaml` (the `progress.yaml` file that contains all the required MoSeq paths)\n",
    "- `model.p` (trained ARHMM to compute statistics from)\n",
    "- `moseq2-index.yaml` (the `moseq2-index.yaml` generated containing paths to extracted sessions that will be used to generate syllable crowd movies)\n",
    "- `config.yaml` (configuration file that contains configured parameters throughout the MoSeq pipeline)\n",
    "- `_pca/` (PCA-related data generated from the PCA section)\n",
    "- `aggregate_results/` (aggregated session data)\n",
    "\n",
    "At this stage, the base directory should contain the necessary files above, as shown below:\n",
    "```\n",
    ".\n",
    "└── Data_Directory/\n",
    "    ├── progress.yaml\n",
    "    ├── config.yaml\n",
    "    ├── moseq2-index.yaml\n",
    "    ├── model_session_path/\n",
    "    ├   └── model.p\n",
    "    ...\n",
    "    ├── _pca/\n",
    "    └── aggregate_results/\n",
    "\n",
    "```\n",
    "\n",
    "**Note: this notebook uses `progress.yaml` to keep track of all the necessary paths.** Please ensure you run the [Load Progress cell](#Load-Progress) before running any analysis modules."
   ]
  },
  {
   "cell_type": "markdown",
   "metadata": {},
   "source": [
    "## Load Progress\n",
    "- **Run this cell** to load the `progress.yaml` file and verify progress for the result analysis. This cell checks if the `progress_paths` dictionary contains the necessary paths to use the features in the rest of the notebook and displays the content in `progress_paths`."
   ]
  },
  {
   "cell_type": "code",
   "execution_count": null,
   "metadata": {
    "scrolled": true
   },
   "outputs": [],
   "source": [
    "from os.path import join, dirname, abspath\n",
    "from moseq2_app.gui.progress import update_progress, restore_progress_vars\n",
    "\n",
    "progress_filepath = './progress.yaml'\n",
    "progress_paths = restore_progress_vars(progress_file=progress_filepath)\n",
    "\n",
    "# necessary paths to check for the analysis pipeline\n",
    "must_have_paths = ['base_dir', 'config_file', 'index_file', 'train_data_dir', 'pca_dirname', \n",
    "                   'scores_filename', 'scores_path', 'changepoints_path', 'model_path']\n",
    "# keywords that should be in the paths\n",
    "keywords = [abspath(dirname(progress_filepath)), 'config.yaml', 'moseq2-index.yaml', 'aggregate_results', '_pca/',\n",
    "           'pca_scores','pca_scores.h5', 'changepoints', 'model.p']\n",
    "# zip the necessary paths and keywords for checking\n",
    "must_have_paths = dict(zip(must_have_paths, keywords))\n",
    "\n",
    "for key, value in must_have_paths.items():\n",
    "    try:\n",
    "        assert value in progress_paths.get(key)\n",
    "    except AssertionError:\n",
    "        print('Please check and correct the path in', key)\n",
    "progress_paths"
   ]
  },
  {
   "cell_type": "markdown",
   "metadata": {},
   "source": [
    "## Getting Best Model Fit\n",
    "Use this feature to determine whether the trained model has captured median syllable durations that match the principal components' changepoints.\n",
    "\n",
    "This feature can also return the best model from a list of models found in the `progress_paths['model_session_path']`. Once completed, the function will update the progress file with the returned model.\n",
    "\n",
    "**Instructions:**\n",
    "- **Run the following cell** to get the best model fit."
   ]
  },
  {
   "cell_type": "code",
   "execution_count": null,
   "metadata": {},
   "outputs": [],
   "source": [
    "from os.path import join\n",
    "from moseq2_viz.gui import get_best_fit_model\n",
    "from moseq2_app.gui.progress import update_progress, restore_progress_vars\n",
    "\n",
    "progress_paths = restore_progress_vars(progress_filepath)\n",
    "\n",
    "output_file = join(progress_paths['plot_path'], 'model_vs_pc_changepoints')\n",
    "\n",
    "best_model_fit = get_best_fit_model(progress_paths, plot_all=True)\n",
    "progress_paths = update_progress(progress_filepath, 'model_path', best_model_fit['best model - duration'])"
   ]
  },
  {
   "cell_type": "markdown",
   "metadata": {},
   "source": [
    "## [OPTIONAL] Specify Paths to Specific Model\n",
    "If you have a specific model and/or specific model session path that are(is) different from the paths in the text fields below, change the text field to specify the new path(s).\n",
    "\n",
    "**Instructions:**\n",
    "- **Run the following cell** to specify the path(s) to a specific model and/or specific model session path if needed. "
   ]
  },
  {
   "cell_type": "code",
   "execution_count": null,
   "metadata": {
    "pycharm": {
     "name": "#%%\n"
    },
    "scrolled": true
   },
   "outputs": [],
   "source": [
    "model_path = progress_paths['model_path'] # replace this with a desired updated path\n",
    "model_session_path = progress_paths['model_session_path'] # replace this with a desired updated path\n",
    "\n",
    "update_progress(progress_filepath, 'model_session_path', model_session_path)\n",
    "progress_paths = update_progress(progress_filepath, 'model_path', model_path)"
   ]
  },
  {
   "cell_type": "markdown",
   "metadata": {},
   "source": [
    "# Compute Syllable Statistics\n",
    "\n",
    "The following cells produce 2 dataframes: `scalar_df` and `mean_df`.\n",
    " - `scalar_df` is a vertically stacked dataframe of scalar values measured during the extraction step, aligned with the model_labels and timestamps. The shape would be (sum_of_session_frames, 31). To view all the measured scalars, print(scalar_df.columns)\n",
    "   - This dataframe can be used to plot the scalar feature values for any session over time.\n",
    " - `mean_df` is a dataframe of the average syllable-scalar values for all the features included in `scalar_df` grouped by the resorted syllable labels, model groups, and uuids.\n",
    "   - This dataframe will be used to plot mean syllable statistics and perform hypothesis testing."
   ]
  },
  {
   "cell_type": "markdown",
   "metadata": {},
   "source": [
    "## Compute `scalar_df`\n",
    "**Instructions:**\n",
    "- **Run the following cell** to compute `scalar_df`."
   ]
  },
  {
   "cell_type": "code",
   "execution_count": null,
   "metadata": {
    "scrolled": false
   },
   "outputs": [],
   "source": [
    "from moseq2_viz.util import parse_index\n",
    "from moseq2_viz.scalars.util import scalars_to_dataframe\n",
    "\n",
    "_, sorted_index = parse_index(progress_paths['index_file'])\n",
    "# compute session scalar data\n",
    "scalar_df = scalars_to_dataframe(sorted_index, model_path=progress_paths['model_path'])\n",
    "\n",
    "print('The shape of scalar_df', scalar_df.shape)\n",
    "scalar_df.head()"
   ]
  },
  {
   "cell_type": "markdown",
   "metadata": {},
   "source": [
    "## Export `scalar_df`\n",
    "**Instructions:**\n",
    "- **Set `export` variable to `True`** if you want to export `scalar_df` for further analysis outside of this notebook.\n",
    "- **Specify the place** you want to save the dataframe in `save_path`. If empty, the file will be saved to `base_dir`.\n",
    "- **Run the following cell** to save `scalar_df` as a CSV file."
   ]
  },
  {
   "cell_type": "code",
   "execution_count": null,
   "metadata": {},
   "outputs": [],
   "source": [
    "# Save `scalar_df` as a csv file\n",
    "# set export = True if you want to export scalar_df for further analysis outside of this notebook\n",
    "\n",
    "from os.path import exists, join\n",
    "\n",
    "export = False\n",
    "# Specify the place you want to save the dataframe in `save_path`. If empty, the file will be save to `base_dir`\n",
    "save_path = \"\"\n",
    "base_dir = progress_paths['base_dir']\n",
    "\n",
    "if export:\n",
    "    # Ensure path exist \n",
    "    if len(save_path) ==0:\n",
    "        save_path = base_dir\n",
    "        print(\"Dataframe will be saved to\", save_path)\n",
    "    else:\n",
    "        try:\n",
    "            assert exists(save_path)\n",
    "            print(\"Dataframe will be saved to\", save_path)\n",
    "        except AssertionError:\n",
    "            save_path = base_dir\n",
    "            print('This is not a valid path. Dataframe csv will be saved to base_dir')\n",
    "    scalar_df.to_csv(join(save_path,'scalar_df.csv'), index=False)\n",
    "    print('Dataframe is saved')"
   ]
  },
  {
   "cell_type": "markdown",
   "metadata": {},
   "source": [
    "## Compute `mean_df`\n",
    "\n",
    "**Instructions:**\n",
    "- **Run the following cell** to `mean_df`."
   ]
  },
  {
   "cell_type": "code",
   "execution_count": null,
   "metadata": {
    "scrolled": false
   },
   "outputs": [],
   "source": [
    "from moseq2_viz.model.util import compute_behavioral_statistics\n",
    "# compute syllable usage and scalar statistics\n",
    "mean_df = compute_behavioral_statistics(scalar_df, count='usage', groupby=['group', 'uuid'], usage_normalization=True)\n",
    "print('The shape of mean_df', mean_df.shape)\n",
    "mean_df.head()"
   ]
  },
  {
   "cell_type": "markdown",
   "metadata": {},
   "source": [
    "## Export `mean_df`\n",
    "\n",
    "**Instructions:**\n",
    "- **Set `export` variable to `True`** if you want to export `mean_df` for further analysis outside of this notebook.\n",
    "- **Specify the place** you want to save the dataframe in `save_path`. If empty, the file will be saved to `base_dir`.\n",
    "- **Run the following cell** to save `mean_df` as a CSV file."
   ]
  },
  {
   "cell_type": "code",
   "execution_count": null,
   "metadata": {},
   "outputs": [],
   "source": [
    "# Save `scalar_df` as a csv file\n",
    "# set export = True if you want to export mean_df for further analysis outside of this notebook\n",
    "from os.path import exists, join\n",
    "export = False\n",
    "# Specify the place you want to save the dataframe in `save_path`. If empty, the file will be save to `base_dir`\n",
    "save_path = \"\"\n",
    "base_dir = progress_paths['base_dir']\n",
    "\n",
    "if export:\n",
    "    # Ensure path exist\n",
    "    if len(save_path) ==0:\n",
    "        save_path = base_dir\n",
    "        print(\"Dataframe will be saved to\", save_path)\n",
    "    else:\n",
    "        try:\n",
    "            assert exists(save_path)\n",
    "            print(\"Dataframe will be saved to\", save_path)\n",
    "        except AssertionError:\n",
    "            save_path = base_dir\n",
    "            print('This is not a valid path. Dataframe csv will be saved to base_dir')\n",
    "    mean_df.to_csv(join(save_path,'mean_df.csv'), index=False)\n",
    "    print('Dataframe is saved')"
   ]
  },
  {
   "cell_type": "markdown",
   "metadata": {},
   "source": [
    "#  Interactive Syllable Labelling Tool\n",
    "Use this interactive tool to assign behavioral labels and short descriptions to syllables by observing the crowd movies and the Syllable Info table.\n",
    "\n",
    "**Instructions:**\n",
    "- **Run the following cell** to launch the Interactive Syllable Statistics Tool.\n",
    "- **Select a syllable** from the `Syllable` dropdown menu to view the associated crowd movie and syllable info.\n",
    "- **Adjust the crowd movie playback speed using the `Playback Speed` slider** to better observe the behavior associated with short/fast syllables.\n",
    "- **Input the syllable behavioral label and short description** in the text fields.\n",
    "- Click `Save Setting` to save the syllable label and description for later analysis.\n",
    "- Use `Next` and `Previous` to navigate between syllables and the syllable label and description will be automatically saved when using these buttons."
   ]
  },
  {
   "cell_type": "code",
   "execution_count": null,
   "metadata": {},
   "outputs": [],
   "source": [
    "from os.path import join\n",
    "from moseq2_app.main import label_syllables\n",
    "from moseq2_app.gui.progress import update_progress\n",
    "\n",
    "# Path to generate crowd movies in\n",
    "crowd_dir = join(progress_paths['model_session_path'], 'crowd_movies/')\n",
    "\n",
    "# Path to file containing Syllable label information\n",
    "syll_infopath = join(progress_paths['model_session_path'], 'syll_info.yaml')\n",
    "\n",
    "# convenience file containing reused syllable statistics data\n",
    "syll_info_df_path = join(progress_paths['model_session_path'], 'syll_df.parquet')\n",
    "\n",
    "# Select number of syllables based on an explained variance percentage\n",
    "explained_variance = 99\n",
    "\n",
    "# To instead label a fixed number of syllables, set max_syllables <= nstates\n",
    "max_syllables = None\n",
    "\n",
    "update_progress(progress_filepath, 'crowd_dir', crowd_dir)\n",
    "update_progress(progress_filepath, 'syll_info', syll_infopath)\n",
    "progress_paths = update_progress(progress_filepath, 'df_info_path', syll_info_df_path)\n",
    "\n",
    "label_syllables(progress_paths, max_syllables=max_syllables, n_explained=explained_variance)"
   ]
  },
  {
   "cell_type": "markdown",
   "metadata": {},
   "source": [
    "# Interactive Syllable Statistics Graphing\n",
    "\n",
    "Use this interactive tool to plot different syllable statistics and their differences in the modeled groups. The dendrogram displayed below the statistics plot represents the hierarchically sorted pairwise distances between the given model's autoregressive matrices representing the syllables.\n",
    "\n",
    "**Instructions:**\n",
    "- *Run the following cell* to launch the Interactive Syllable Statistics Tool.\n",
    "- **Select the parameter(s) from the dropdown menus** parameters to control the graph. \n",
    "- To plot multiple sessions and subjects, **select multiple sessions from `SessionName` or `SubjectName` while holding down the [Ctrl]/[Command]/[Shift] key**.\n",
    "- **Hover over the data points** to display syllable info."
   ]
  },
  {
   "cell_type": "code",
   "execution_count": null,
   "metadata": {
    "scrolled": false
   },
   "outputs": [],
   "source": [
    "from moseq2_app.main import interactive_syllable_stats\n",
    "\n",
    "max_syllables = None\n",
    "\n",
    "# If loading parquet files is taking too long, set load_parquet=False\n",
    "interactive_syllable_stats(progress_paths, max_syllable=max_syllables, load_parquet=True)"
   ]
  },
  {
   "cell_type": "markdown",
   "metadata": {},
   "source": [
    "# Compute Syllable Transition Matrices\n",
    "\n",
    "Note this code block is loading the model from the `model_path` and is __not__ using the `mean_df` variable.\n",
    "\n",
    "**Instructions:**\n",
    "- **Run the following cell** to compute syllable transition matrices within each group."
   ]
  },
  {
   "cell_type": "code",
   "execution_count": null,
   "metadata": {
    "scrolled": false
   },
   "outputs": [],
   "source": [
    "from moseq2_viz.model.util import parse_model_results, relabel_by_usage\n",
    "from moseq2_viz.model.trans_graph import get_trans_graph_groups, get_group_trans_mats\n",
    "from moseq2_viz.model.util import compute_syllable_explained_variance\n",
    "\n",
    "# load your model\n",
    "model_path = progress_paths['model_path']\n",
    "model_data = parse_model_results(model_path)\n",
    "model_data['labels'] = relabel_by_usage(model_data['labels'], count='usage')[0]\n",
    "max_syllable = compute_syllable_explained_variance(model_data, n_explained=99)\n",
    "\n",
    "# select a transition matrix normalization method\n",
    "normalize = 'bigram' # other options: 'columns', 'rows'\n",
    "\n",
    "# Get modeled session uuids to compute group-mean transition graph for each group\n",
    "label_group, uuids = get_trans_graph_groups(model_data)\n",
    "group = list(set(label_group))\n",
    "# compute transition matrices and usages for each group\n",
    "print('Group(s):', group)\n",
    "trans_mats, usages = get_group_trans_mats(model_data['labels'], label_group, group, max_syllable, normalize=normalize)\n",
    "\n",
    "import matplotlib.pyplot as plt\n",
    "\n",
    "fig, ax = plt.subplots(1, len(group), figsize=(12, 8), sharex=False, sharey=True)\n",
    "\n",
    "for i, g in enumerate(group):\n",
    "    h = ax[i].imshow(trans_mats[i][:max_syllable,:max_syllable], cmap='magma')\n",
    "    plt.colorbar(h, ax=ax[i], fraction=0.046, pad=0.04)\n",
    "    ax[i].set_xlabel('Syllable j')\n",
    "    ax[i].set_ylabel('Syllable i')\n",
    "    ax[i].set_title(f'{g}: Bigram Transition Probabilities')"
   ]
  },
  {
   "cell_type": "markdown",
   "metadata": {},
   "source": [
    "## Export Transition Matrices and usages\n",
    "\n",
    "**Instructions:**\n",
    "- **Set `export` variable to `True`** if you want to export the transition matrices and syllable usages for further analysis outside of this notebook.\n",
    "- **Specify the place** you want to save the dataframe in `save_path`. If empty, the file will be saved to `base_dir`.\n",
    "- **Run the following cell** to save the group transition matrices and syllable usages as CSV files."
   ]
  },
  {
   "cell_type": "code",
   "execution_count": null,
   "metadata": {},
   "outputs": [],
   "source": [
    "import pandas as pd\n",
    "from os.path import exists, join\n",
    "\n",
    "# set export = True if you want to export the transition matrices and syllable usages\n",
    "export = False\n",
    "base_dir = progress_paths['base_dir']\n",
    "selected_group = \"\" #specify group name to be exported here\n",
    "save_path = \"\"\n",
    "\n",
    "\n",
    "\n",
    "if export:\n",
    "    # Construct data frame\n",
    "    group_index = next(i for i, g in enumerate(group) if g == selected_group)\n",
    "    group_trans = pd.DataFrame(trans_mats[group_index])\n",
    "    group_usages = []\n",
    "\n",
    "    for key, value in usages[group_index].items():\n",
    "        group_usages.append([key, value])\n",
    "\n",
    "    group_usages = pd.DataFrame(group_usages)\n",
    "    group_usages.set_axis(['Syllable', 'Usage'], axis = 1, inplace = True)\n",
    "    \n",
    "  # Ensure path exist\n",
    "    if len(save_path) ==0:\n",
    "        save_path = base_dir\n",
    "        print(\"Dataframe will be saved to\", save_path)\n",
    "    else:\n",
    "        try:\n",
    "            assert exists(save_path)\n",
    "            print(\"Dataframe will be saved to\", save_path)\n",
    "        except AssertionError:\n",
    "            save_path = base_dir\n",
    "            print('This is not a valid path. Dataframe csv will be saved to base_dir')\n",
    "    \n",
    "    group_trans.to_csv(join(save_path,selected_group+'_trans.csv'), index=False)\n",
    "    group_usages.to_csv(join(save_path,selected_group+'_usage.csv'), index=False)\n",
    "    print('Dataframe is saved')"
   ]
  },
  {
   "cell_type": "markdown",
   "metadata": {},
   "source": [
    "## Interactive Syllable Transition Graph Tool\n",
    "Use this tool to explore the behavioral transitions of your modeled groups, such as bigrams/trigrams or different usage/transition probability given certain thresholds.\n",
    "\n",
    "**Instructions:**\n",
    "- Run the following cell to launch the Interactive Syllable Transition Graphing Tool.\n",
    "- **Select the parameter(s)** from the dropdown menus to control the graph.\n",
    "- **Hover over the edges and nodes** to display the edge colors and syllable info.\n",
    "**Note: Nodes outside the threshold will be hidden.**"
   ]
  },
  {
   "cell_type": "markdown",
   "metadata": {},
   "source": [
    "Run this cell to display the entire view in the cell output"
   ]
  },
  {
   "cell_type": "code",
   "execution_count": null,
   "metadata": {},
   "outputs": [],
   "source": [
    "%%javascript\n",
    "IPython.OutputArea.prototype._should_scroll = function(lines) {\n",
    "    return false;\n",
    "}"
   ]
  },
  {
   "cell_type": "code",
   "execution_count": null,
   "metadata": {
    "scrolled": false
   },
   "outputs": [],
   "source": [
    "from moseq2_app.main import interactive_transition_graph\n",
    "\n",
    "max_syllables = None\n",
    "\n",
    "interactive_transition_graph(progress_paths, max_syllables=max_syllables, plot_vertically=True, load_parquet=True)"
   ]
  },
  {
   "cell_type": "markdown",
   "metadata": {},
   "source": [
    "***\n",
    "\n",
    "# Notebook End \n",
    "\n",
    "# User Survey\n",
    "\n",
    "Please take some time to tell us your thoughts about this notebook:\n",
    "**[user feedback survey](https://forms.gle/FbtEN8E382y8jF3p6)**"
   ]
  }
 ],
 "metadata": {
  "kernelspec": {
   "display_name": "Python 3",
   "language": "python",
   "name": "python3"
  },
  "language_info": {
   "codemirror_mode": {
    "name": "ipython",
    "version": 3
   },
   "file_extension": ".py",
   "mimetype": "text/x-python",
   "name": "python",
   "nbconvert_exporter": "python",
   "pygments_lexer": "ipython3",
   "version": "3.8.8"
  },
  "pycharm": {
   "stem_cell": {
    "cell_type": "raw",
    "metadata": {
     "collapsed": false
    },
    "source": []
   }
  },
  "toc": {
   "base_numbering": 1,
   "nav_menu": {},
   "number_sections": true,
   "sideBar": true,
   "skip_h1_title": false,
   "title_cell": "Table of Contents",
   "title_sidebar": "Contents",
   "toc_cell": true,
   "toc_position": {
    "height": "calc(100% - 180px)",
    "left": "10px",
    "top": "150px",
    "width": "383.984px"
   },
   "toc_section_display": true,
   "toc_window_display": true
  },
  "varInspector": {
   "cols": {
    "lenName": 16,
    "lenType": 16,
    "lenVar": 40
   },
   "kernels_config": {
    "python": {
     "delete_cmd_postfix": "",
     "delete_cmd_prefix": "del ",
     "library": "var_list.py",
     "varRefreshCmd": "print(var_dic_list())"
    },
    "r": {
     "delete_cmd_postfix": ") ",
     "delete_cmd_prefix": "rm(",
     "library": "var_list.r",
     "varRefreshCmd": "cat(var_dic_list()) "
    }
   },
   "types_to_exclude": [
    "module",
    "function",
    "builtin_function_or_method",
    "instance",
    "_Feature"
   ],
   "window_display": false
  }
 },
 "nbformat": 4,
 "nbformat_minor": 4
}
