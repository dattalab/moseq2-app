{
 "cells": [
  {
   "cell_type": "markdown",
   "metadata": {
    "toc": true
   },
   "source": [
    "<h1>Table of Contents<span class=\"tocSkip\"></span></h1>\n",
    "<div class=\"toc\"><ul class=\"toc-item\"><li><ul class=\"toc-item\"><li><span><a href=\"#File-Requirements\" data-toc-modified-id=\"File-Requirements-0.1\"><span class=\"toc-item-num\">0.1&nbsp;&nbsp;</span>File Requirements</a></span></li><li><span><a href=\"#Recommended-File-Structure\" data-toc-modified-id=\"Recommended-File-Structure-0.2\"><span class=\"toc-item-num\">0.2&nbsp;&nbsp;</span>Recommended File Structure</a></span></li><li><span><a href=\"#Initial-Order-of-Operations\" data-toc-modified-id=\"Initial-Order-of-Operations-0.3\"><span class=\"toc-item-num\">0.3&nbsp;&nbsp;</span>Initial Order of Operations</a></span></li></ul></li><li><span><a href=\"#Load-Progress\" data-toc-modified-id=\"Load-Progress-1\"><span class=\"toc-item-num\">1&nbsp;&nbsp;</span>Load Progress</a></span><ul class=\"toc-item\"><li><span><a href=\"#Expectation-from-Progress-File\" data-toc-modified-id=\"Expectation-from-Progress-File-1.1\"><span class=\"toc-item-num\">1.1&nbsp;&nbsp;</span>Expectation from Progress File</a></span></li></ul></li><li><span><a href=\"#Get-Best-Model-Fit\" data-toc-modified-id=\"Get-Best-Model-Fit-2\"><span class=\"toc-item-num\">2&nbsp;&nbsp;</span>Get Best Model Fit</a></span></li><li><span><a href=\"#(Optional)-Set-Paths-to-Specific-Model\" data-toc-modified-id=\"(Optional)-Set-Paths-to-Specific-Model-3\"><span class=\"toc-item-num\">3&nbsp;&nbsp;</span>(Optional) Set Paths to Specific Model</a></span></li><li><span><a href=\"#Label-Syllables\" data-toc-modified-id=\"Label-Syllables-4\"><span class=\"toc-item-num\">4&nbsp;&nbsp;</span>Label Syllables</a></span><ul class=\"toc-item\"><li><span><a href=\"#Widget-Guide\" data-toc-modified-id=\"Widget-Guide-4.1\"><span class=\"toc-item-num\">4.1&nbsp;&nbsp;</span>Widget Guide</a></span></li><li><span><a href=\"#Instructions\" data-toc-modified-id=\"Instructions-4.2\"><span class=\"toc-item-num\">4.2&nbsp;&nbsp;</span>Instructions</a></span></li></ul></li><li><span><a href=\"#Interactive-Syllable-Statistics-Graphing\" data-toc-modified-id=\"Interactive-Syllable-Statistics-Graphing-5\"><span class=\"toc-item-num\">5&nbsp;&nbsp;</span>Interactive Syllable Statistics Graphing</a></span><ul class=\"toc-item\"><li><span><a href=\"#Widget-Guide\" data-toc-modified-id=\"Widget-Guide-5.1\"><span class=\"toc-item-num\">5.1&nbsp;&nbsp;</span>Widget Guide</a></span></li><li><span><a href=\"#Instructions\" data-toc-modified-id=\"Instructions-5.2\"><span class=\"toc-item-num\">5.2&nbsp;&nbsp;</span>Instructions</a></span></li></ul></li><li><span><a href=\"#Compute-Syllable-Transition-Matrices\" data-toc-modified-id=\"Compute-Syllable-Transition-Matrices-6\"><span class=\"toc-item-num\">6&nbsp;&nbsp;</span>Compute Syllable Transition Matrices</a></span></li><li><span><a href=\"#Export-Transition-Matrices-and-usages-(Optional)\" data-toc-modified-id=\"Export-Transition-Matrices-and-usages-(Optional)-7\"><span class=\"toc-item-num\">7&nbsp;&nbsp;</span>Export Transition Matrices and usages (Optional)</a></span></li><li><span><a href=\"#Interactive-Syllable-Transition-Graph\" data-toc-modified-id=\"Interactive-Syllable-Transition-Graph-8\"><span class=\"toc-item-num\">8&nbsp;&nbsp;</span>Interactive Syllable Transition Graph</a></span><ul class=\"toc-item\"><li><span><a href=\"#Widget-Guide\" data-toc-modified-id=\"Widget-Guide-8.1\"><span class=\"toc-item-num\">8.1&nbsp;&nbsp;</span>Widget Guide</a></span></li><li><span><a href=\"#Instructions\" data-toc-modified-id=\"Instructions-8.2\"><span class=\"toc-item-num\">8.2&nbsp;&nbsp;</span>Instructions</a></span></li></ul></li><li><span><a href=\"#Compute-Syllable-Statistics\" data-toc-modified-id=\"Compute-Syllable-Statistics-9\"><span class=\"toc-item-num\">9&nbsp;&nbsp;</span>Compute Syllable Statistics</a></span><ul class=\"toc-item\"><li><span><a href=\"#Compute-scalar_df\" data-toc-modified-id=\"Compute-scalar_df-9.1\"><span class=\"toc-item-num\">9.1&nbsp;&nbsp;</span>Compute <code>scalar_df</code></a></span></li><li><span><a href=\"#Compute-mean_df\" data-toc-modified-id=\"Compute-mean_df-9.2\"><span class=\"toc-item-num\">9.2&nbsp;&nbsp;</span>Compute <code>mean_df</code></a></span></li></ul></li></ul></div>"
   ]
  },
  {
   "cell_type": "markdown",
   "metadata": {},
   "source": [
    "# MoSeq2 Interactive Results Exploration\n",
    "\n",
    "### File Requirements and Organization\n",
    "To run this notebook, you need the following files in your data directory:\n",
    "- `progress.yaml` (the `progress.yaml` file that contains all the required MoSeq paths)\n",
    "- `model.p` (trained ARHMM to compute statistics from)\n",
    "- `moseq2-index.yaml` (the `moseq2-index.yaml` generated containing paths to extracted sessions that will be used to generate syllable crowd movies)\n",
    "- `config.yaml` (configuration file that contains configured parameters throughout the MoSeq pipeline)\n",
    "- `_pca/` (PCA-related data generated from the PCA section)\n",
    "- `aggregate_results/` (aggregated session data)\n",
    "\n",
    "### Recommended File Structure\n",
    "```\n",
    ".\n",
    "└── Data_Directory/\n",
    "    ├── progress.yaml\n",
    "    ├── config.yaml\n",
    "    ├── moseq2-index.yaml\n",
    "    ├── model_session_path/\n",
    "    ├   └── model.p\n",
    "    ...\n",
    "    ├── _pca/\n",
    "    └── aggregate_results/\n",
    "\n",
    "```\n",
    "\n",
    "**Note: this notebook uses `progress.yaml` to keep track of all the necessary paths.** Please ensure you run the [Load Progress cell](#Load-Progress) before running any analysis modules."
   ]
  },
  {
   "cell_type": "markdown",
   "metadata": {},
   "source": [
    "## Load Progress\n",
    "Run the following cell to load the `progress.yaml` file. The cell checks if all the necessary paths are found and output the path that needs checking if the path doesn't contain the intended keyword."
   ]
  },
  {
   "cell_type": "code",
   "execution_count": null,
   "metadata": {
    "scrolled": true
   },
   "outputs": [],
   "source": [
    "from os.path import join, dirname\n",
    "from moseq2_app.gui.progress import update_progress, restore_progress_vars\n",
    "\n",
    "progress_filepath = './progress.yaml'\n",
    "progress_paths = restore_progress_vars(progress_file=progress_filepath)\n",
    "\n",
    "# necessary paths to check for the analysis pipeline\n",
    "must_have_paths = ['base_dir', 'config_file', 'index_file', 'train_data_dir', 'pca_dirname', \n",
    "                   'scores_filename', 'scores_path', 'changepoints_path', 'model_path']\n",
    "# keywords that should be in the paths\n",
    "keywords = [dirname(progress_filepath), 'config.yaml', 'moseq2-index.yaml', 'aggregate_results', '_pca/',\n",
    "           'pca_scores','pca_scores.h5', 'changepoints', 'model.p']\n",
    "# zip the necessary paths and keywords for checking\n",
    "must_have_paths = dict(zip(must_have_paths, keywords))\n",
    "\n",
    "for key, value in must_have_paths.items():\n",
    "    try:\n",
    "        assert value in progress_paths.get(key)\n",
    "    except AssertionError:\n",
    "        print('Please check and correct the path in', key)\n",
    "progress_paths"
   ]
  },
  {
   "cell_type": "markdown",
   "metadata": {},
   "source": [
    "## Get Best Model Fit\n",
    "\n",
    "Use this feature to determine whether the trained model has captured median syllable durations that match the principal components' changepoints.\n",
    "\n",
    "This feature can also return the best model from a list of models found in the `progress_paths['model_session_path']`. Once completed, the function will update the progress file with the returned model.\n",
    "\n",
    "Run this cell to get find the best model fit."
   ]
  },
  {
   "cell_type": "code",
   "execution_count": null,
   "metadata": {},
   "outputs": [],
   "source": [
    "from os.path import join\n",
    "from moseq2_viz.gui import get_best_fit_model\n",
    "from moseq2_app.gui.progress import update_progress, restore_progress_vars\n",
    "\n",
    "progress_paths = restore_progress_vars(progress_filepath)\n",
    "\n",
    "output_file = join(progress_paths['plot_path'], 'model_vs_pc_changepoints')\n",
    "\n",
    "best_model_fit = get_best_fit_model(progress_paths, plot_all=True)\n",
    "progress_paths = update_progress(progress_filepath, 'model_path', best_model_fit['best model - duration'])"
   ]
  },
  {
   "cell_type": "markdown",
   "metadata": {},
   "source": [
    "## (Optional) Set Paths to Specific Model\n",
    "If you want to use a different model from the one in `progress_paths['model_path']` and/or a different model session path from the one in `progress_paths['model_session_path']`. You can run the following cell to set paths to the specific model path and the session path."
   ]
  },
  {
   "cell_type": "code",
   "execution_count": null,
   "metadata": {
    "pycharm": {
     "name": "#%%\n"
    },
    "scrolled": true
   },
   "outputs": [],
   "source": [
    "model_path = progress_paths['model_path'] # replace this with a desired updated path\n",
    "model_session_path = progress_paths['model_session_path'] # replace this with a desired updated path\n",
    "\n",
    "update_progress(progress_filepath, 'model_session_path', model_session_path)\n",
    "progress_paths = update_progress(progress_filepath, 'model_path', model_path)"
   ]
  },
  {
   "cell_type": "markdown",
   "metadata": {},
   "source": [
    "## Label Syllables\n",
    "\n",
    "Use this interactive tool to assign behavioral labels and short descriptions to syllables by observing the crowd movies and the Syllable Info table.\n",
    "\n",
    "Instructions\n",
    "- Run the following cell to launch the interactive Syllable Labelling Tool.\n",
    "- Select a syllable from the `Syllable` dropdown menu to view the associated crowd movie and syllable info.\n",
    "- Use the `Playback Speed` slider to adjust the crowd movie playback speed to better observe the behavior associated with short/fast syllables.\n",
    "- Enter the syllable label in the `Syllable Name` field and desired description in `Short Description`.\n",
    "- Click `Save Setting` to save the syllable label and description for later analysis.\n",
    "- Use `Next` and `Previous` to navigate between syllables and the syllable label and description will be automatically saved when using these buttons."
   ]
  },
  {
   "cell_type": "code",
   "execution_count": null,
   "metadata": {},
   "outputs": [],
   "source": [
    "from os.path import join\n",
    "from moseq2_app.main import label_syllables\n",
    "from moseq2_app.gui.progress import update_progress\n",
    "\n",
    "# Path to generate crowd movies in\n",
    "crowd_dir = join(progress_paths['model_session_path'], 'crowd_movies/')\n",
    "\n",
    "# Path to file containing Syllable label information\n",
    "syll_infopath = join(progress_paths['model_session_path'], 'syll_info.yaml')\n",
    "\n",
    "# convenience file containing reused syllable statistics data\n",
    "syll_info_df_path = join(progress_paths['model_session_path'], 'syll_df.parquet')\n",
    "\n",
    "# Select number of syllables based on an explained variance percentage\n",
    "explained_variance = 99\n",
    "\n",
    "# To instead label a fixed number of syllables, set max_syllables <= nstates\n",
    "max_syllables = None\n",
    "\n",
    "update_progress(progress_filepath, 'crowd_dir', crowd_dir)\n",
    "update_progress(progress_filepath, 'syll_info', syll_infopath)\n",
    "progress_paths = update_progress(progress_filepath, 'df_info_path', syll_info_df_path)\n",
    "\n",
    "label_syllables(progress_paths, max_syllables=max_syllables, n_explained=explained_variance)"
   ]
  },
  {
   "cell_type": "markdown",
   "metadata": {},
   "source": [
    "## Interactive Syllable Statistics Graphing\n",
    "\n",
    "Use this interactive tool to plot different syllable statistics and their differences in the modeled groups. The dendrogram displayed below the statistics plot represents the hierarchically sorted pairwise distances between the given model's autoregressive matrices representing the syllables.\n",
    "\n",
    "Usage\n",
    "- Run the following cell to launch the Interactive Syllable Statistics Tool.\n",
    "- Select the parameters from the dropdown menus to control the graph. \n",
    "    - If you select `Difference` from the `Sorting` dropdown menu, the syllables will be sorted by the value difference between two groups and additional menus will appear for statistical testing to test whether the differences between groups are significant.  \n",
    "    - If you select `group` from `Grouping`, the mean of all the sessions within each group will be plotted in the graph.\n",
    "    - If you select `SessionName` or `SubjectName`, you can select multiple sessions/subjects in the `Sessions` menu by holding down CTRL/COMMAND key. you can click on the legend items to selectively hide the corresponding data points.\n",
    "    - If you have label the syllables, you can use specify the syllables you want to plot in the `Syllable to Display` field, such as \"run\", \"walk\" etc. The text input is not case-sensitive.\n",
    "- Select a threshold criterion from the \"Threshold By\" dropdown menu. Use the Thresholding Slider to include syllables with statistics within a specific value range.\n",
    "- Hover over the circle data points to display a pop-up window with additional syllable metadata."
   ]
  },
  {
   "cell_type": "code",
   "execution_count": null,
   "metadata": {
    "scrolled": false
   },
   "outputs": [],
   "source": [
    "from moseq2_app.main import interactive_syllable_stats\n",
    "\n",
    "max_syllables = None\n",
    "\n",
    "# If loading parquet files is taking too long, set load_parquet=False\n",
    "interactive_syllable_stats(progress_paths, max_syllable=max_syllables, load_parquet=True)"
   ]
  },
  {
   "cell_type": "markdown",
   "metadata": {},
   "source": [
    "## Compute Syllable Transition Matrices\n",
    "\n",
    "Run the following cell to compute syllable transition matrices within each group. Note this code block is loading the model from the `model_path`, and is __not__ using the `mean_df` variable."
   ]
  },
  {
   "cell_type": "code",
   "execution_count": null,
   "metadata": {
    "scrolled": true
   },
   "outputs": [],
   "source": [
    "from moseq2_viz.model.util import parse_model_results, relabel_by_usage\n",
    "from moseq2_viz.model.trans_graph import get_trans_graph_groups, get_group_trans_mats\n",
    "from moseq2_viz.model.util import compute_syllable_explained_variance\n",
    "\n",
    "# load your model\n",
    "model_path = progress_paths['model_path']\n",
    "model_data = parse_model_results(model_path)\n",
    "model_data['labels'] = relabel_by_usage(model_data['labels'], count='usage')[0]\n",
    "max_syllable = compute_syllable_explained_variance(model_data, n_explained=99)\n",
    "\n",
    "# select a transition matrix normalization method\n",
    "normalize = 'bigram' # other options: 'columns', 'rows'\n",
    "\n",
    "# Get modeled session uuids to compute group-mean transition graph for each group\n",
    "label_group, uuids = get_trans_graph_groups(model_data)\n",
    "group = list(set(label_group))\n",
    "# compute transition matrices and usages for each group\n",
    "print('Group(s):', group)\n",
    "trans_mats, usages = get_group_trans_mats(model_data['labels'], label_group, group, max_syllable, normalize=normalize)\n",
    "\n",
    "import matplotlib.pyplot as plt\n",
    "\n",
    "fig, ax = plt.subplots(1, len(group), figsize=(12, 8), sharex=False, sharey=True)\n",
    "\n",
    "for i, g in enumerate(group):\n",
    "    h = ax[i].imshow(trans_mats[i][:max_syllable,:max_syllable], cmap='magma')\n",
    "    plt.colorbar(h, ax=ax[i], fraction=0.046, pad=0.04)\n",
    "    ax[i].set_xlabel('Syllable j')\n",
    "    ax[i].set_ylabel('Syllable i')\n",
    "    ax[i].set_title(f'{g}: Bigram Transition Probabilities')"
   ]
  },
  {
   "cell_type": "markdown",
   "metadata": {},
   "source": [
    "## Export Transition Matrices and usages (Optional)"
   ]
  },
  {
   "cell_type": "code",
   "execution_count": null,
   "metadata": {},
   "outputs": [],
   "source": [
    "import pandas as pd\n",
    "from os.path import exists, join\n",
    "\n",
    "# set export = True if you want to export the transition matrices and syllable usages\n",
    "export = True\n",
    "base_dir = progress_paths['base_dir']\n",
    "selected_group = \"\" #specify group name to be exported here\n",
    "save_path = \"\"\n",
    "\n",
    "group_index = next(i for i, g in enumerate(group) if g == selected_group)\n",
    "\n",
    "group_trans = pd.DataFrame(trans_mats[group_index])\n",
    "group_usages = []\n",
    "\n",
    "for key, value in usages[group_index].items():\n",
    "    group_usages.append([key, value])\n",
    "group_usages = pd.DataFrame(group_usages)\n",
    "group_usages.set_axis(['Syllable', 'Usage'], axis = 1, inplace = True)\n",
    "\n",
    "if export:\n",
    "  # Ensure path exist\n",
    "    if len(save_path) ==0:\n",
    "        save_path = base_dir\n",
    "        print(\"Dataframe will be saved to\", save_path)\n",
    "    else:\n",
    "        try:\n",
    "            assert exists(save_path)\n",
    "            print(\"Dataframe will be saved to\", save_path)\n",
    "        except AssertionError:\n",
    "            save_path = base_dir\n",
    "            print('This is not a valid path. Dataframe csv will be saved to base_dir')\n",
    "    \n",
    "    group_trans.to_csv(join(save_path,selected_group+'_trans.csv'), index=False)\n",
    "    group_usages.to_csv(join(save_path,selected_group+'_usage.csv'), index=False)\n",
    "    print('Dataframe is saved')"
   ]
  },
  {
   "cell_type": "markdown",
   "metadata": {},
   "source": [
    "## Interactive Syllable Transition Graph\n",
    "\n",
    "Use this tool to explore the behavioral transition space of your modeled groups. Find sequences of behavior,e.g. bigrams/trigrams, at different usage/transition probability ranges, and gain a better understanding of the differences across your modeling groups.\n",
    " \n",
    "Select the parameter(s) from the dropdown menus and run the cell again to plot the updated plots.\n",
    "Hover over the edges and nodes to display the edge colors and syllable info.\n",
    "\n",
    "\n",
    "Usage:\n",
    "- Run the following cell to launch the Interactive Syllable Transition Graphing Tool.\n",
    "- Use `Graph Layout` DropDown Menu to specify the graph layout and `Node Coloring` to specify the scalar value the node colors are based on.\n",
    "- Use the `Threshold Edge Weights` slider to select a range for syllable transition probabilities to display in the graphs.\n",
    "- Use the `Threshold Nodes by Usage` slider to select a range for syllable usages to display in the graphs.\n",
    "- Use the `Threshold Nodes by <lorem ipsum>` to select a range for `<lorem ipsum>` to display in the graphs.\n",
    "\n",
    "**Note: Nodes outside the threshold will be hidden.**"
   ]
  },
  {
   "cell_type": "markdown",
   "metadata": {},
   "source": [
    "Run this cell to display the entire view in the cell output"
   ]
  },
  {
   "cell_type": "code",
   "execution_count": null,
   "metadata": {},
   "outputs": [],
   "source": [
    "%%javascript\n",
    "IPython.OutputArea.prototype._should_scroll = function(lines) {\n",
    "    return false;\n",
    "}"
   ]
  },
  {
   "cell_type": "code",
   "execution_count": null,
   "metadata": {
    "scrolled": false
   },
   "outputs": [],
   "source": [
    "from moseq2_app.main import interactive_transition_graph\n",
    "\n",
    "max_syllables = None\n",
    "\n",
    "interactive_transition_graph(progress_paths, max_syllables=max_syllables, plot_vertically=True, load_parquet=True)"
   ]
  },
  {
   "cell_type": "markdown",
   "metadata": {},
   "source": [
    "## Compute Syllable Statistics\n",
    "\n",
    "This following cells produce 2 dataframes: `scalar_df` and `mean_df`.\n",
    " - `scalar_df` is a vertically stacked dataframe of scalar values measured during the extraction step, aligned with the model_labels and timestamps. The shape would be (sum_of_session_frames, 31). To view all the measured scalars, print(scalar_df.columns)\n",
    "   - This dataframe can be used to plot the scalar feature values for any session over time.\n",
    " - `mean_df` is a dataframe of the average syllable-scalar values for all the features included in `scalar_df` grouped by the resorted syllable labels, model groups and uuids.\n",
    "   - This dataframe will be used to plot mean syllable statistics and perform hypothesis testing."
   ]
  },
  {
   "cell_type": "markdown",
   "metadata": {},
   "source": [
    "### Compute `scalar_df`"
   ]
  },
  {
   "cell_type": "code",
   "execution_count": null,
   "metadata": {
    "scrolled": false
   },
   "outputs": [],
   "source": [
    "from moseq2_viz.util import parse_index\n",
    "from moseq2_viz.scalars.util import scalars_to_dataframe\n",
    "\n",
    "_, sorted_index = parse_index(progress_paths['index_file'])\n",
    "# compute session scalar data\n",
    "scalar_df = scalars_to_dataframe(sorted_index, model_path=progress_paths['model_path'])\n",
    "\n",
    "print('The shape of scalar_df', scalar_df.shape)\n",
    "scalar_df.head()"
   ]
  },
  {
   "cell_type": "markdown",
   "metadata": {},
   "source": [
    "### Export `scalar_df`"
   ]
  },
  {
   "cell_type": "code",
   "execution_count": null,
   "metadata": {},
   "outputs": [],
   "source": [
    "# Save `scalar_df` as a csv file\n",
    "# set export = True if you want to export scalar_df for further analysis outside of this notebook\n",
    "\n",
    "from os.path import exists, join\n",
    "\n",
    "export = True\n",
    "# Specify the place you want to save the dataframe in `save_path`. If empty, the file will be save to `base_dir`\n",
    "save_path = \"\"\n",
    "base_dir = progress_paths['base_dir']\n",
    "\n",
    "if export:\n",
    "    # Ensure path exist \n",
    "    if len(save_path) ==0:\n",
    "        save_path = base_dir\n",
    "        print(\"Dataframe will be saved to\", save_path)\n",
    "    else:\n",
    "        try:\n",
    "            assert exists(save_path)\n",
    "            print(\"Dataframe will be saved to\", save_path)\n",
    "        except AssertionError:\n",
    "            save_path = base_dir\n",
    "            print('This is not a valid path. Dataframe csv will be saved to base_dir')\n",
    "    scalar_df.to_csv(join(save_path,'scalar_df.csv'), index=False)\n",
    "    print('Dataframe is saved')"
   ]
  },
  {
   "cell_type": "markdown",
   "metadata": {},
   "source": [
    "### Compute `mean_df`"
   ]
  },
  {
   "cell_type": "code",
   "execution_count": null,
   "metadata": {
    "scrolled": false
   },
   "outputs": [],
   "source": [
    "from moseq2_viz.model.util import compute_behavioral_statistics\n",
    "# compute syllable usage and scalar statistics\n",
    "mean_df = compute_behavioral_statistics(scalar_df, count='usage', groupby=['group', 'uuid'], usage_normalization=True)\n",
    "print('The shape of mean_df', mean_df.shape)\n",
    "mean_df.head()"
   ]
  },
  {
   "cell_type": "markdown",
   "metadata": {},
   "source": [
    "### Export `mean_df`"
   ]
  },
  {
   "cell_type": "code",
   "execution_count": null,
   "metadata": {},
   "outputs": [],
   "source": [
    "# Save `scalar_df` as a csv file\n",
    "# set export = True if you want to export mean_df for further analysis outside of this notebook\n",
    "from os.path import exists, join\n",
    "export = True\n",
    "# Specify the place you want to save the dataframe in `save_path`. If empty, the file will be save to `base_dir`\n",
    "save_path = \"\"\n",
    "base_dir = progress_paths['base_dir']\n",
    "\n",
    "if export:\n",
    "    # Ensure path exist\n",
    "    if len(save_path) ==0:\n",
    "        save_path = base_dir\n",
    "        print(\"Dataframe will be saved to\", save_path)\n",
    "    else:\n",
    "        try:\n",
    "            assert exists(save_path)\n",
    "            print(\"Dataframe will be saved to\", save_path)\n",
    "        except AssertionError:\n",
    "            save_path = base_dir\n",
    "            print('This is not a valid path. Dataframe csv will be saved to base_dir')\n",
    "    mean_df.to_csv(join(save_path,'mean_df.csv'), index=False)\n",
    "    print('Dataframe is saved')"
   ]
  },
  {
   "cell_type": "markdown",
   "metadata": {},
   "source": [
    "***\n",
    "\n",
    "# Notebook End \n",
    "\n",
    "# User Survey\n",
    "\n",
    "Please take some time to tell us your thoughts about this notebook:\n",
    "**[user feedback survey](https://forms.gle/FbtEN8E382y8jF3p6)**"
   ]
  }
 ],
 "metadata": {
  "kernelspec": {
   "display_name": "Python 3",
   "language": "python",
   "name": "python3"
  },
  "language_info": {
   "codemirror_mode": {
    "name": "ipython",
    "version": 3
   },
   "file_extension": ".py",
   "mimetype": "text/x-python",
   "name": "python",
   "nbconvert_exporter": "python",
   "pygments_lexer": "ipython3",
   "version": "3.7.10"
  },
  "pycharm": {
   "stem_cell": {
    "cell_type": "raw",
    "metadata": {
     "collapsed": false
    },
    "source": []
   }
  },
  "toc": {
   "base_numbering": 1,
   "nav_menu": {},
   "number_sections": true,
   "sideBar": true,
   "skip_h1_title": true,
   "title_cell": "Table of Contents",
   "title_sidebar": "Contents",
   "toc_cell": true,
   "toc_position": {},
   "toc_section_display": true,
   "toc_window_display": false
  },
  "varInspector": {
   "cols": {
    "lenName": 16,
    "lenType": 16,
    "lenVar": 40
   },
   "kernels_config": {
    "python": {
     "delete_cmd_postfix": "",
     "delete_cmd_prefix": "del ",
     "library": "var_list.py",
     "varRefreshCmd": "print(var_dic_list())"
    },
    "r": {
     "delete_cmd_postfix": ") ",
     "delete_cmd_prefix": "rm(",
     "library": "var_list.r",
     "varRefreshCmd": "cat(var_dic_list()) "
    }
   },
   "types_to_exclude": [
    "module",
    "function",
    "builtin_function_or_method",
    "instance",
    "_Feature"
   ],
   "window_display": false
  }
 },
 "nbformat": 4,
 "nbformat_minor": 4
}
