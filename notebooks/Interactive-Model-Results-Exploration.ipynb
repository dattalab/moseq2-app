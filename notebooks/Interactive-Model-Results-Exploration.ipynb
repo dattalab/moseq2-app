{
 "cells": [
  {
   "cell_type": "markdown",
   "metadata": {
    "toc": true
   },
   "source": [
    "<h1>Table of Contents<span class=\"tocSkip\"></span></h1>\n",
    "<div class=\"toc\"><ul class=\"toc-item\"><li><ul class=\"toc-item\"><li><span><a href=\"#File-Requirements\" data-toc-modified-id=\"File-Requirements-0.1\"><span class=\"toc-item-num\">0.1&nbsp;&nbsp;</span>File Requirements</a></span></li><li><span><a href=\"#Recommended-File-Structure\" data-toc-modified-id=\"Recommended-File-Structure-0.2\"><span class=\"toc-item-num\">0.2&nbsp;&nbsp;</span>Recommended File Structure</a></span></li><li><span><a href=\"#Initial-Order-of-Operations\" data-toc-modified-id=\"Initial-Order-of-Operations-0.3\"><span class=\"toc-item-num\">0.3&nbsp;&nbsp;</span>Initial Order of Operations</a></span></li></ul></li><li><span><a href=\"#Load-Progress\" data-toc-modified-id=\"Load-Progress-1\"><span class=\"toc-item-num\">1&nbsp;&nbsp;</span>Load Progress</a></span><ul class=\"toc-item\"><li><span><a href=\"#Expectation-from-Progress-File\" data-toc-modified-id=\"Expectation-from-Progress-File-1.1\"><span class=\"toc-item-num\">1.1&nbsp;&nbsp;</span>Expectation from Progress File</a></span></li></ul></li><li><span><a href=\"#Get-Best-Model-Fit\" data-toc-modified-id=\"Get-Best-Model-Fit-2\"><span class=\"toc-item-num\">2&nbsp;&nbsp;</span>Get Best Model Fit</a></span></li><li><span><a href=\"#(Optional)-Set-Paths-to-Specific-Model\" data-toc-modified-id=\"(Optional)-Set-Paths-to-Specific-Model-3\"><span class=\"toc-item-num\">3&nbsp;&nbsp;</span>(Optional) Set Paths to Specific Model</a></span></li><li><span><a href=\"#Label-Syllables\" data-toc-modified-id=\"Label-Syllables-4\"><span class=\"toc-item-num\">4&nbsp;&nbsp;</span>Label Syllables</a></span><ul class=\"toc-item\"><li><span><a href=\"#Widget-Guide\" data-toc-modified-id=\"Widget-Guide-4.1\"><span class=\"toc-item-num\">4.1&nbsp;&nbsp;</span>Widget Guide</a></span></li><li><span><a href=\"#Instructions\" data-toc-modified-id=\"Instructions-4.2\"><span class=\"toc-item-num\">4.2&nbsp;&nbsp;</span>Instructions</a></span></li></ul></li><li><span><a href=\"#Interactive-Syllable-Statistics-Graphing\" data-toc-modified-id=\"Interactive-Syllable-Statistics-Graphing-5\"><span class=\"toc-item-num\">5&nbsp;&nbsp;</span>Interactive Syllable Statistics Graphing</a></span><ul class=\"toc-item\"><li><span><a href=\"#Widget-Guide\" data-toc-modified-id=\"Widget-Guide-5.1\"><span class=\"toc-item-num\">5.1&nbsp;&nbsp;</span>Widget Guide</a></span></li><li><span><a href=\"#Instructions\" data-toc-modified-id=\"Instructions-5.2\"><span class=\"toc-item-num\">5.2&nbsp;&nbsp;</span>Instructions</a></span></li></ul></li><li><span><a href=\"#Compute-Syllable-Transition-Matrices\" data-toc-modified-id=\"Compute-Syllable-Transition-Matrices-6\"><span class=\"toc-item-num\">6&nbsp;&nbsp;</span>Compute Syllable Transition Matrices</a></span></li><li><span><a href=\"#Export-Transition-Matrices-and-usages-(Optional)\" data-toc-modified-id=\"Export-Transition-Matrices-and-usages-(Optional)-7\"><span class=\"toc-item-num\">7&nbsp;&nbsp;</span>Export Transition Matrices and usages (Optional)</a></span></li><li><span><a href=\"#Interactive-Syllable-Transition-Graph\" data-toc-modified-id=\"Interactive-Syllable-Transition-Graph-8\"><span class=\"toc-item-num\">8&nbsp;&nbsp;</span>Interactive Syllable Transition Graph</a></span><ul class=\"toc-item\"><li><span><a href=\"#Widget-Guide\" data-toc-modified-id=\"Widget-Guide-8.1\"><span class=\"toc-item-num\">8.1&nbsp;&nbsp;</span>Widget Guide</a></span></li><li><span><a href=\"#Instructions\" data-toc-modified-id=\"Instructions-8.2\"><span class=\"toc-item-num\">8.2&nbsp;&nbsp;</span>Instructions</a></span></li></ul></li><li><span><a href=\"#Compute-Syllable-Statistics\" data-toc-modified-id=\"Compute-Syllable-Statistics-9\"><span class=\"toc-item-num\">9&nbsp;&nbsp;</span>Compute Syllable Statistics</a></span><ul class=\"toc-item\"><li><span><a href=\"#Compute-scalar_df\" data-toc-modified-id=\"Compute-scalar_df-9.1\"><span class=\"toc-item-num\">9.1&nbsp;&nbsp;</span>Compute <code>scalar_df</code></a></span></li><li><span><a href=\"#Compute-mean_df\" data-toc-modified-id=\"Compute-mean_df-9.2\"><span class=\"toc-item-num\">9.2&nbsp;&nbsp;</span>Compute <code>mean_df</code></a></span></li></ul></li></ul></div>"
   ]
  },
  {
   "cell_type": "markdown",
   "metadata": {},
   "source": [
    "<center><h1>MoSeq2 Interactive Results Exploration Notebook</h1></center>\n",
    "\n",
    "### File Requirements\n",
    "In order to use this notebook you will need the following files:\n",
    "- `progress.yaml`: MoSeq progress yaml file that contains paths to all required moseq data.\n",
    "- `model.p`: Pretrained ARHMM to compute statistics from.\n",
    "- `moseq2-index.yaml`: Index file containing paths to extracted sessions that will be used to generate syllable crowd movies.\n",
    "- `config.yaml`: Configuration file that contains configured parameters throughout the MoSeq pipeline.\n",
    "\n",
    "### Recommended File Structure\n",
    "We recommend that your pretrained model is contained in a parent folder, such that all of the newly computed statistics and generated movies can be consolidated in one folder.\n",
    "\n",
    "```\n",
    ".\n",
    "└── Data_Directory/\n",
    "    ├── (running) Interactive-Model-Results-Exploration.ipynb (2)\n",
    "    ├── progress.yaml **\n",
    "    ├── config.yaml **\n",
    "    ├── moseq2-index.yaml **\n",
    "    ├── model_session_path/ **     \n",
    "    ├   └── model.p\n",
    "    ...\n",
    "    ├── _pca/\n",
    "    └──  aggregate_results/\n",
    "\n",
    "```\n",
    "\n",
    "### Initial Order of Operations\n",
    "When running this notebook for the first time, we recommend running the entire notebook linearly. \n",
    "\n",
    "If you are revisiting the notebook to view previously computed results, simply load your progress paths, then run any of the interactive tools. "
   ]
  },
  {
   "cell_type": "markdown",
   "metadata": {},
   "source": [
    "<center><img src=\"https://drive.google.com/uc?export=view&id=1TJn53y0SN98LldAUGf6UH1Sno_gmloQN\"></center>\n"
   ]
  },
  {
   "cell_type": "markdown",
   "metadata": {},
   "source": [
    "## Load Progress"
   ]
  },
  {
   "cell_type": "code",
   "execution_count": null,
   "metadata": {},
   "outputs": [],
   "source": [
    "from os.path import join\n",
    "from moseq2_app.gui.progress import update_progress, restore_progress_vars\n",
    "\n",
    "from moseq2_app.gui.progress import restore_progress_vars\n",
    "\n",
    "progress_filepath = '/Users/sherry/Desktop/MoSeq/example-data/small_test_ds_running/progress.yaml'\n",
    "progress_paths = restore_progress_vars(progress_file=progress_filepath)"
   ]
  },
  {
   "cell_type": "markdown",
   "metadata": {},
   "source": [
    "### Expectation from Progress File\n",
    "The loaded progress file path-dict must contain the following existing paths in order to use the features in this notebook:\n",
    "```\n",
    "progress_paths = {'base_dir': './',\n",
    "                  'config_file': './config.yaml',\n",
    "                  'index_file': './moseq2-index.yaml',\n",
    "                  'train_data_dir': './aggregate_results/',\n",
    "                  'pca_dirname': '_pca/',\n",
    "                  'scores_filename': 'pca_scores',\n",
    "                  'scores_path': './_pca/pca_scores.h5',\n",
    "                  'changepoints_path': './_pca/changepoints.h5',\n",
    "                  'model_path': './modeling_dir/model.p',\n",
    "                  'crowd_dir': '',\n",
    "                  'syll_info': '',\n",
    "                  }\n",
    "```"
   ]
  },
  {
   "cell_type": "markdown",
   "metadata": {},
   "source": [
    "## Get Best Model Fit\n",
    "\n",
    "Use this feature to determine whether the trained model has captured median syllable durations that match the principal components changepoints.\n",
    "\n",
    "This feature can also return the best model from a list of models found in the `progress_paths['model_session_path']`.\n",
    "Once completed, the function will update the progress file with the returned model.\n",
    "\n",
    "Below are examples of some comparative distributions that you can expect when using this tool:\n",
    "\n",
    "<table>\n",
    "    <tr>\n",
    "        <td>\n",
    "            <img height=400 width=400 src=\"https://drive.google.com/uc?export=view&id=1B6R4AGsQHaddwJj-48Pbd_5ZHOZvpttp\">\n",
    "        </td>\n",
    "        <td>\n",
    "            <img height=400 width=400 src=\"https://drive.google.com/uc?export=view&id=1poLAAhNlAdM8T_1Ps6OMs6vNz03NGbgr\">\n",
    "        </td>"
   ]
  },
  {
   "cell_type": "code",
   "execution_count": null,
   "metadata": {},
   "outputs": [],
   "source": [
    "from os.path import join\n",
    "from moseq2_viz.gui import get_best_fit_model\n",
    "from moseq2_app.gui.progress import update_progress, restore_progress_vars\n",
    "\n",
    "progress_paths = restore_progress_vars(progress_filepath)\n",
    "\n",
    "output_file = join(progress_paths['plot_path'], 'model_vs_pc_changepoints')\n",
    "\n",
    "best_model_fit = get_best_fit_model(progress_paths, plot_all=True)\n",
    "progress_paths = update_progress(progress_filepath, 'model_path', best_model_fit['best model - duration'])"
   ]
  },
  {
   "cell_type": "markdown",
   "metadata": {},
   "source": [
    "## (Optional) Set Paths to Specific Model\n",
    "\n",
    "If you do not already have a set `model_path` in your `progress_paths` dictionary, set the paths in the cell below."
   ]
  },
  {
   "cell_type": "code",
   "execution_count": null,
   "metadata": {
    "pycharm": {
     "name": "#%%\n"
    },
    "scrolled": true
   },
   "outputs": [],
   "source": [
    "model_path = progress_paths['model_path'] # replace this with a desired updated path\n",
    "model_session_path = progress_paths['model_session_path'] # replace this with a desired updated path\n",
    "\n",
    "update_progress(progress_filepath, 'model_session_path', model_session_path)\n",
    "progress_paths = update_progress(progress_filepath, 'model_path', model_path)"
   ]
  },
  {
   "cell_type": "markdown",
   "metadata": {},
   "source": [
    "## Label Syllables\n",
    "\n",
    "Use this feature to simplify interpretting the syllable statistics down the line by viewing the syllable crowd movie and some scalar metrics to determine which behaviors the syllable states represent.\n",
    "\n",
    "\n",
    "<center><h3>Widget Guide</h3></center>\n",
    "<img height=75% width=75% src=\"https://drive.google.com/uc?export=view&id=1zJSvj_7XF73TvVGTCfT1t79YIZNMWfBQ\">\n",
    "<h3>Instructions</h3>\n",
    "<ol>\n",
    "    <li style=\"text-align:left;\">\n",
    "        Use the crowd movie and the presented syllable scalar table to help guide your labeling decisions.\n",
    "    </li>\n",
    "    <li style=\"text-align:left;\">\n",
    "        Use the playback slider to control the speed you can view the crowd movies. Watching some crowd movies in slow motion can aid in accurately labeling fast/short syllables.\n",
    "    </li>\n",
    "    <li style=\"text-align:left;\">\n",
    "        Enter the syllable name and desired description into the text fields.\n",
    "    </li>\n",
    "    <li style=\"text-align:left;\">\n",
    "        Use either the dropdown menu widget or the \"Next\" and \"Previous\" buttons to navigate between syllables.\n",
    "    </li>\n",
    "    <li style=\"text-align:left;\">\n",
    "        Once all the syllables are labeled, click the \"Save Setting\" button to write your current session changes to your syllable information yaml file.\n",
    "    </li>\n",
    "</ol>"
   ]
  },
  {
   "cell_type": "code",
   "execution_count": null,
   "metadata": {},
   "outputs": [],
   "source": [
    "from os.path import join\n",
    "from moseq2_app.main import label_syllables\n",
    "from moseq2_app.gui.progress import update_progress\n",
    "\n",
    "# Path to generate crowd movies in\n",
    "crowd_dir = join(progress_paths['model_session_path'], 'crowd_movies/')\n",
    "\n",
    "# Path to file containing Syllable label information\n",
    "syll_infopath = join(progress_paths['model_session_path'], 'syll_info.yaml')\n",
    "\n",
    "# convenience file containing reused syllable statistics data\n",
    "syll_info_df_path = join(progress_paths['model_session_path'], 'syll_df.parquet')\n",
    "\n",
    "# Select number of syllables based on an explained variance percentage\n",
    "explained_variance = 99\n",
    "\n",
    "# To instead label a fixed number of syllables, set max_syllables <= nstates\n",
    "max_syllables = None\n",
    "\n",
    "update_progress(progress_filepath, 'crowd_dir', crowd_dir)\n",
    "update_progress(progress_filepath, 'syll_info', syll_infopath)\n",
    "progress_paths = update_progress(progress_filepath, 'df_info_path', syll_info_df_path)\n",
    "\n",
    "label_syllables(progress_paths, max_syllables=max_syllables, n_explained=explained_variance)"
   ]
  },
  {
   "cell_type": "markdown",
   "metadata": {},
   "source": [
    "## Interactive Syllable Statistics Graphing\n",
    "\n",
    "Use this tool to interactively plot different syllable statistics and their differences in the modeled groups. The dendrogram displayed below the statistics plot represents the hierarchically sorted pairwise distances between the given model's autoregressive matrices representing the syllables.\n",
    "\n",
    "<br>\n",
    "<center><h3>Widget Guide</h3></center>\n",
    "<img height=75% width=75% src=\"https://drive.google.com/uc?export=view&id=1Z5VFK_XiK5U-jvRL7x7QzLAmiGmwtAig\">\n",
    "\n",
    "<h3 style=\"text-align:left;\">Instructions</h3>\n",
    "<table>\n",
    "    <tr>\n",
    "        <td style=\"width: 45%;\">\n",
    "            <ol>\n",
    "                <li style=\"text-align:left; font-size:15px;\">\n",
    "                    Use the \"Statistic Selector\" to select a syllable statistic to plot.\n",
    "                </li>\n",
    "                <li style=\"text-align:left; font-size:15px;\">\n",
    "                    Toggle the plotted error bars using the \"Error Bars\" dropdown menu.\n",
    "                </li>\n",
    "                <li style=\"text-align:left; font-size:15px;\">\n",
    "                    To resort the syllables with respect to some given statistics, use the Sorting Dropdown.\n",
    "                    <ul>\n",
    "                        <li style=\"text-align:left; font-size:15px;\">Select \"Difference\" to sort the syllables from largest to smallest difference between two selected groups.</li>\n",
    "                        <ul>\n",
    "                            <li style=\"text-align:left; font-size:15px;\">Upon resorting the syllables, the outputted plot will also include highlighted \"Significant Syllables\" computed via a pairwise comparison using Kruskal-Wallis and Dunn's Test. The Significant Syllables will be shown as red diamonds instead of the circular points.</li>\n",
    "                        </ul>\n",
    "                        <li style=\"text-align:left; font-size:15px;\">\n",
    "                            Select \"Similarity\" to reorder the syllables by the model states' autoregressive matrices. The ordering will be identical to the leaves of the dendrogram located under the main plot. \n",
    "                        </li>\n",
    "                    </ul>\n",
    "                </li>\n",
    "                <li style=\"text-align:left; font-size:15px;\">\n",
    "                    Use the \"Grouping\" dropdown menu to select the desired data to plot.\n",
    "                    <ul>\n",
    "                        <li style=\"text-align:left; font-size:15px;\">\n",
    "                            If \"group\" is selected, then the mean of all the sessions within a single group will be displayed.\n",
    "                        </li>\n",
    "                        <li style=\"text-align:left; font-size:15px;\">\n",
    "                           If \"SessionName\" is selected, use the displayed MultipleSelect menu to display individual session's syllable statistics. The mean of each selected session's group will also be displayed as a dashed line. Use CTRL/SHIFT/COMMAND keys to handle multiple row selection.\n",
    "                        </li>\n",
    "                        <li style=\"text-align:left; font-size:15px;\">\n",
    "                           Note: you can click on the legend items to selectively hide the corresponding datapoints.\n",
    "                        </li>\n",
    "                    </ul>\n",
    "                </li>\n",
    "                <li style=\"text-align:left; font-size:15px;\">\n",
    "                    Use the Syllable Spotlight text field to filter your plot to only include syllables with the label string inputted into the text field.\n",
    "                </li>\n",
    "                <li style=\"text-align:left; font-size:15px;\">\n",
    "                    <ul>\n",
    "                        <li style=\"text-align:left; font-size:15px;\">Use the Thresholding Slider to filter out syllables that are not included in the selected range to display.</li>\n",
    "                        <li style=\"text-align:left; font-size:15px;\">Use the \"Threshold By\" dropdown widget in order to set the statistic the Threshold Slider will filter the data by.</li>\n",
    "                    </ul>\n",
    "                </li>\n",
    "                <li style=\"text-align:left; font-size:15px;\">\n",
    "                    Hover over the circle datapoints to display a pop-up window with additional syllable metadata.\n",
    "                </li>\n",
    "            </ol>\n",
    "        </td>\n",
    "        <td>\n",
    "            <img src=\"https://drive.google.com/uc?export=view&id=1nPRW6GHu0vlOswx0cGy-1MzYdeSaeJpW\">\n",
    "            <img src=\"https://drive.google.com/uc?export=view&id=1Bc3KpTA9dCz04PXzojpOvsahaw4a8NP3\">\n",
    "        </td>\n",
    "    </tr>\n",
    "</table>"
   ]
  },
  {
   "cell_type": "code",
   "execution_count": null,
   "metadata": {
    "scrolled": true
   },
   "outputs": [],
   "source": [
    "from moseq2_app.main import interactive_syllable_stats\n",
    "\n",
    "max_syllables = None\n",
    "\n",
    "# If loading parquet files is taking too long, set load_parquet=False\n",
    "interactive_syllable_stats(progress_paths, max_syllable=max_syllables, load_parquet=True)"
   ]
  },
  {
   "cell_type": "markdown",
   "metadata": {},
   "source": [
    "## Compute Syllable Transition Matrices\n",
    "\n",
    "Note this this code block is loading the model from the `model_path`, and is __not__ using the `mean_df` variable.\n",
    "\n",
    "- `model_data` (dict): dictionary containing all model data.\n",
    "- `labels` (list of 1D-arrays): list of label predictions for each session that the model was trained on.\n",
    "- `label_group` (list of strs): list of group names corresponding to each index in the `labels` variable.\n",
    "- `group` (list of strs): list of all unique group names in `label_groups`.\n",
    "- `trans_mats` (list of 2D arrays): transition matrices for each group, corresponding to each index in `group`.\n",
    "- `usages` (list of OrderedDicts): syllable usage ratios for each group, corresponding to each index in `trans_mats` and `group`.\n",
    "\n"
   ]
  },
  {
   "cell_type": "code",
   "execution_count": null,
   "metadata": {
    "scrolled": false
   },
   "outputs": [],
   "source": [
    "from moseq2_viz.model.util import parse_model_results, relabel_by_usage\n",
    "from moseq2_viz.model.trans_graph import get_trans_graph_groups, get_group_trans_mats\n",
    "from moseq2_viz.model.util import compute_syllable_explained_variance\n",
    "\n",
    "\n",
    "# load your model\n",
    "model_path = progress_paths['model_path']\n",
    "model_data = parse_model_results(model_path)\n",
    "model_data['labels'] = relabel_by_usage(model_data['labels'], count='usage')[0]\n",
    "max_syllable = compute_syllable_explained_variance(model_data, n_explained=99)\n",
    "\n",
    "\n",
    "# select a transition matrix normalization method\n",
    "normalize = 'bigram' # other options: 'columns', 'rows'\n",
    "\n",
    "# Get modeled session uuids to compute group-mean transition graph for\n",
    "label_group, uuids = get_trans_graph_groups(model_data)\n",
    "group = list(set(label_group))\n",
    "# compute transition matrices and usages for each group\n",
    "print('Group(s):', group)\n",
    "trans_mats, usages = get_group_trans_mats(model_data['labels'], label_group, group, max_syllable, normalize=normalize)"
   ]
  },
  {
   "cell_type": "markdown",
   "metadata": {},
   "source": [
    "## Export Transition Matrices and usages (Optional)"
   ]
  },
  {
   "cell_type": "code",
   "execution_count": null,
   "metadata": {},
   "outputs": [],
   "source": [
    "import pandas as pd\n",
    "\n",
    "# If users want to export transition matrices and usages, set export = True\n",
    "export = True\n",
    "selected_group = \"saline\" #@param {type:\"string\"}\n",
    "save_path = \"\" #@param {type:\"string\"}\n",
    "\n",
    "group_index = next(i for i, g in enumerate(group) if g == selected_group)\n",
    "\n",
    "group_trans = pd.DataFrame(trans_mats[group_index])\n",
    "group_usages = []\n",
    "\n",
    "for key, value in usages[group_index].items():\n",
    "    group_usages.append([key, value])\n",
    "group_usages = pd.DataFrame(group_usages)\n",
    "group_usages.set_axis(['Syllable', 'Usage'], axis = 1, inplace = True)\n",
    "if export:\n",
    "  # Ensure path exist\n",
    "    if len(save_path) ==0:\n",
    "        save_path = base_dir\n",
    "    else:\n",
    "        try:\n",
    "            assert exists(save_path)\n",
    "        except AssertionError:\n",
    "            save_path = base_dir\n",
    "            print('This is not a valid path. Dataframe csv will be saved to base_dir')\n",
    "    print(\"Dataframe will be saved to\", save_path)\n",
    "    group_trans.to_csv(join(save_path,selected_group+'_trans.csv'), index=False)\n",
    "    group_usages.to_csv(join(save_path,selected_group+'_usage.csv'), index=False)\n",
    "    print('Dataframe is saved')"
   ]
  },
  {
   "cell_type": "markdown",
   "metadata": {},
   "source": [
    "## Interactive Syllable Transition Graph\n",
    "\n",
    "Use this tool to explore the behavioral transiton space of your modeled groups. Find sequences of behavior,\n",
    " e.g. bigrams/trigrams, at different usage/transition probability ranges, and gain a better understanding of the\n",
    " differences across your modeling groups. \n",
    "__Note: do not arbitrarily threshold transition graphs for publication purposes.\n",
    " This tool is mainly aimed to explore different behavioral spaces of your modeled groups.__ \n",
    "\n",
    "<center><h3>Widget Guide</h3></center>\n",
    "<img src=\"https://drive.google.com/uc?export=view&id=1pkQ99kIkQ6veAwTsRQ0sb56coq_yK9u6\">\n",
    "\n",
    "<h3 style=\"text-align:left;\">Instructions</h3>\n",
    "<table>\n",
    "    <tr>\n",
    "        <td style=\"width: 45%;\">\n",
    "            <ol>\n",
    "                <li style=\"text-align:left; font-size:15px;\">\n",
    "                    Use the \"Graph Layout\" DropDown Menu to control the displayed node layouts. You can use the Bokeh graph tools to control zoom and panning functionalities.\n",
    "                </li>\n",
    "                <li style=\"text-align:left; font-size:15px;\">\n",
    "                    Use the Edge Thresholding Range Slider to select ranges of syllable transition probabilities to display in all the graphs.\n",
    "                </li>\n",
    "                <li style=\"text-align:left; font-size:15px;\">\n",
    "                    Use the Usage Thresholding Slider to select nodes/syllables within the range of syllable usages to display. Note: Nodes outside of the selected range will be hidden.\n",
    "                </li>\n",
    "                <li style=\"text-align:left; font-size:15px;\">\n",
    "                    Use the DropDown Menu to color the nodes by any of the selected syllable scalars.\n",
    "                </li>\n",
    "                <li style=\"text-align:left; font-size:15px;\">\n",
    "                    Use the Speed Thresholding Slider to select nodes/syllables to display within the selected range of speeds.\n",
    "                </li>\n",
    "            </ol>\n",
    "        </td>\n",
    "        <td>\n",
    "            <img src=\"https://drive.google.com/uc?export=view&id=1YZhg9BVNTTpg-RZUxYu2Xk-wUqr1FD3m\">\n",
    "        </td>\n",
    "    </tr>\n",
    "</table>\n",
    "\n",
    "Run this cell to disable scrolling in cell output to display the entire view"
   ]
  },
  {
   "cell_type": "code",
   "execution_count": null,
   "metadata": {},
   "outputs": [],
   "source": [
    "%%javascript\n",
    "IPython.OutputArea.prototype._should_scroll = function(lines) {\n",
    "    return false;\n",
    "}"
   ]
  },
  {
   "cell_type": "code",
   "execution_count": null,
   "metadata": {},
   "outputs": [],
   "source": [
    "from moseq2_app.main import interactive_transition_graph\n",
    "\n",
    "max_syllables = None\n",
    "\n",
    "interactive_transition_graph(progress_paths, max_syllables=max_syllables, plot_vertically=True, load_parquet=True)"
   ]
  },
  {
   "cell_type": "markdown",
   "metadata": {},
   "source": [
    "## Compute Syllable Statistics\n",
    "\n",
    "This cell will produce 2 dataframes: `scalar_df` and `mean_df`.\n",
    " - `scalar_df` is a vertically stacked dataframe of scalar values measured during the extraction step, aligned with the model_labels and timestamps. The shape would be (sum_of_session_frames, 31). To view all the measured scalars, print(scalar_df.columns)\n",
    "   - This dataframe can be used to plot the scalar feature values for any session over time.\n",
    " - `mean_df` is a dataframe of the average syllable-scalar values for all the features included in `scalar_df` grouped by the resorted syllable labels, model groups and uuids.\n",
    "   - This dataframe will be used to plot mean syllable statistics and perform hypothesis testing."
   ]
  },
  {
   "cell_type": "markdown",
   "metadata": {},
   "source": [
    "### Compute `scalar_df`"
   ]
  },
  {
   "cell_type": "code",
   "execution_count": null,
   "metadata": {
    "scrolled": false
   },
   "outputs": [],
   "source": [
    "from moseq2_viz.util import parse_index\n",
    "from moseq2_viz.scalars.util import scalars_to_dataframe\n",
    "\n",
    "\n",
    "_, sorted_index = parse_index(progress_paths['index_file'])\n",
    "\n",
    "# compute session scalar data\n",
    "scalar_df = scalars_to_dataframe(sorted_index, model_path=progress_paths['model_path'])\n",
    "\n",
    "print('The shape of scalar_df', scalar_df.shape)\n",
    "scalar_df.head()"
   ]
  },
  {
   "cell_type": "code",
   "execution_count": null,
   "metadata": {},
   "outputs": [],
   "source": [
    "# Save `scalar_df` as a csv file\n",
    "# set export = True if you want to export scalar_df for further analysis outside of this notebook.\n",
    "# Specify the place you want to save the dataframe in `save_path`. If empty, the file will be save to `base_dir`\n",
    "\n",
    "from os.path import exists, join\n",
    "base_dir = progress_paths['base_dir']\n",
    "export = True\n",
    "save_path = \"\"\n",
    "if export:\n",
    "    # Ensure path exist \n",
    "    if len(save_path) ==0:\n",
    "        save_path = base_dir\n",
    "    else:\n",
    "        try:\n",
    "            assert exists(save_path)\n",
    "        except AssertionError:\n",
    "            save_path = base_dir\n",
    "            print('This is not a valid path. Dataframe csv will be saved to base_dir')\n",
    "    print(\"Dataframe will be saved to\", save_path)\n",
    "    scalar_df.to_csv(join(save_path,'scalar_df.csv'), index=False)\n",
    "    print('Dataframe is saved')"
   ]
  },
  {
   "cell_type": "markdown",
   "metadata": {},
   "source": [
    "### Compute `mean_df`"
   ]
  },
  {
   "cell_type": "code",
   "execution_count": null,
   "metadata": {},
   "outputs": [],
   "source": [
    "from moseq2_viz.model.util import compute_behavioral_statistics\n",
    "# compute syllable usage and scalar statistics\n",
    "mean_df = compute_behavioral_statistics(scalar_df, count='usage', groupby=['group', 'uuid'], usage_normalization=True)\n",
    "\n",
    "print('The shape of mean_df', mean_df.shape)\n",
    "mean_df.head()"
   ]
  },
  {
   "cell_type": "code",
   "execution_count": null,
   "metadata": {},
   "outputs": [],
   "source": [
    "# Save `scalar_df` as a csv file\n",
    "# set export = True if you want to export mean_df for further analysis outside of this notebook\n",
    "\n",
    "# Specify the place you want to save the dataframe in `save_path`. \n",
    "# If empty, the file will be save to `base_dir`.\n",
    "base_dir = progress_paths['base_dir']\n",
    "export = True\n",
    "save_path = \"\"\n",
    "\n",
    "if export:\n",
    "    # Ensure path exist\n",
    "    if len(save_path) ==0:\n",
    "        save_path = base_dir\n",
    "    else:\n",
    "        try:\n",
    "            assert exists(save_path)\n",
    "        except AssertionError:\n",
    "            save_path = base_dir\n",
    "            print('This is not a valid path. Dataframe csv will be saved to base_dir')\n",
    "    print(\"Dataframe will be saved to\", save_path)\n",
    "    mean_df.to_csv(join(save_path,'mean_df.csv'), index=False)\n",
    "    print('Dataframe is saved')"
   ]
  },
  {
   "cell_type": "markdown",
   "metadata": {},
   "source": [
    "***\n",
    "\n",
    "# Notebook End \n",
    "\n",
    "# User Survey\n",
    "\n",
    "Please take some time to tell us your thoughts about this notebook:\n",
    "**[user feedback survey](https://forms.gle/FbtEN8E382y8jF3p6)**"
   ]
  }
 ],
 "metadata": {
  "kernelspec": {
   "display_name": "Python 3",
   "language": "python",
   "name": "python3"
  },
  "language_info": {
   "codemirror_mode": {
    "name": "ipython",
    "version": 3
   },
   "file_extension": ".py",
   "mimetype": "text/x-python",
   "name": "python",
   "nbconvert_exporter": "python",
   "pygments_lexer": "ipython3",
   "version": "3.7.10"
  },
  "pycharm": {
   "stem_cell": {
    "cell_type": "raw",
    "metadata": {
     "collapsed": false
    },
    "source": []
   }
  },
  "toc": {
   "base_numbering": 1,
   "nav_menu": {},
   "number_sections": true,
   "sideBar": true,
   "skip_h1_title": true,
   "title_cell": "Table of Contents",
   "title_sidebar": "Contents",
   "toc_cell": true,
   "toc_position": {},
   "toc_section_display": true,
   "toc_window_display": false
  },
  "varInspector": {
   "cols": {
    "lenName": 16,
    "lenType": 16,
    "lenVar": 40
   },
   "kernels_config": {
    "python": {
     "delete_cmd_postfix": "",
     "delete_cmd_prefix": "del ",
     "library": "var_list.py",
     "varRefreshCmd": "print(var_dic_list())"
    },
    "r": {
     "delete_cmd_postfix": ") ",
     "delete_cmd_prefix": "rm(",
     "library": "var_list.r",
     "varRefreshCmd": "cat(var_dic_list()) "
    }
   },
   "types_to_exclude": [
    "module",
    "function",
    "builtin_function_or_method",
    "instance",
    "_Feature"
   ],
   "window_display": false
  }
 },
 "nbformat": 4,
 "nbformat_minor": 4
}
