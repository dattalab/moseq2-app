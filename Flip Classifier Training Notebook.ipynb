{
 "cells": [
  {
   "cell_type": "markdown",
   "metadata": {
    "toc": true
   },
   "source": [
    "<h1>Table of Contents<span class=\"tocSkip\"></span></h1>\n",
    "<div class=\"toc\"><ul class=\"toc-item\"><li><span><a href=\"#Label-Correctly-Oriented-Frame-Ranges\" data-toc-modified-id=\"Label-Correctly-Oriented-Frame-Ranges-1\"><span class=\"toc-item-num\">1&nbsp;&nbsp;</span>Label Correctly Oriented Frame Ranges</a></span><ul class=\"toc-item\"><li><span><a href=\"#Widget-Guide\" data-toc-modified-id=\"Widget-Guide-1.1\"><span class=\"toc-item-num\">1.1&nbsp;&nbsp;</span>Widget Guide</a></span></li><li><span><a href=\"#Instructions\" data-toc-modified-id=\"Instructions-1.2\"><span class=\"toc-item-num\">1.2&nbsp;&nbsp;</span>Instructions</a></span></li></ul></li><li><span><a href=\"#Prepare-Train-Test-Datasets\" data-toc-modified-id=\"Prepare-Train-Test-Datasets-2\"><span class=\"toc-item-num\">2&nbsp;&nbsp;</span>Prepare Train-Test Datasets</a></span></li><li><span><a href=\"#Fit-and-Evaluate-the-Flip-Classifier-Model\" data-toc-modified-id=\"Fit-and-Evaluate-the-Flip-Classifier-Model-3\"><span class=\"toc-item-num\">3&nbsp;&nbsp;</span>Fit and Evaluate the Flip Classifier Model</a></span></li></ul></div>"
   ]
  },
  {
   "cell_type": "markdown",
   "metadata": {},
   "source": [
    "<center><h1>Flip Classifier Training Notebook</h1></center>\n",
    "\n",
    "Flip classifiers are RandomForestClassifier models that MoSeq2-Extract uses to ensure that the mouse is always extracted facing east. This notebook is a streamlined utility and guide for preparing data and training a model that handles your specific data acquisition use case.\n",
    "\n",
    "To use this notebook, you must first extract some data using MoSeq2-Extract to use as training data for the flip classifier model. 100K frames is optimal for training the flip classifier. \n",
    "\n",
    "This is can be an iterative process if your data contains large amounts of flips throughout the extractions. On your first iteration, it is acceptable to extract the data without a flip-classifier. Each iteration of re-extracting the data (with your latest model) and training a new model will yield higher model accuracy.\n",
    "\n",
    "<center><img src=\"https://drive.google.com/uc?export=view&id=11Hsw5A3mjz5hQPBhr_dxhzE4pNzTsY4T\"></center>\n",
    "\n",
    "## Label Correctly Oriented Frame Ranges\n",
    "\n",
    "Use this interactive tool to build your training dataset for the flip classifier model. You will select the frame ranges where the rodent is facing east, these ranges will be used to build your training set.\n",
    "\n",
    "### Widget Guide\n",
    "<center><img src=\"https://drive.google.com/uc?export=view&id=1U5wIeqWW6BOts8SiiCC7psdokaED1l5M\"></center>\n",
    "\n",
    "### Instructions\n",
    "- First, use the Session Selector (1) to choose a session to label frames from.\n",
    "- Use the Slider (3) to select a frame index to preview.\n",
    "- To include a frame range in your training set:\n",
    "   1. On the starting index, click the \"Start Range\" Button (4). This will start the frame range inclusion, displaying the direction selection buttons (5).\n",
    "   2. Increase the slider to the desired end index, then indicate the direction the mouse is facing in the selection using either of the displayed direction selection buttons (5) to add it to the training list.\n",
    "      - To cancel the selection, click the \"Cancel Select\" Button (4), and the list will not be added.\n",
    "      - The selected frame range will appear in the box (7) next to the image preview (2) with a L/R prefix depending on which button directional was clicked.\n",
    "      - When the indicator (6) turns green, you are ready to continue onto the next cells.\n",
    "   3. Once all of your correct frame ranges are selected, click the \"Clear Output\" (8) button and continue to the next cell.\n",
    "   \n",
    "__Note__: If two frame ranges are selected with overlapping frames, the training set will only include the unique selected indices, removing duplicates. "
   ]
  },
  {
   "cell_type": "code",
   "execution_count": null,
   "metadata": {
    "scrolled": false
   },
   "outputs": [],
   "source": [
    "from moseq2_app.main import flip_classifier_tool\n",
    "\n",
    "input_dir = './'\n",
    "model_path = './flip-classifier-xx-1.pkl' ## e.g. ./flip-classifier-azure-ephys.pkl\n",
    "\n",
    "max_frames = 1e5 # max number of frames to use (performance anecdotally saturates around 1e5)\n",
    "tail_filter_iters = 1 # number of tail filter iterations\n",
    "space_filter_size = 3 # size of the spatial median blur filter kernel size\n",
    "\n",
    "FF = flip_classifier_tool(input_dir=input_dir,\n",
    "                          output_file=model_path,\n",
    "                          max_frames=max_frames,\n",
    "                          tail_filter_iters=tail_filter_iters,\n",
    "                          space_filter_size=space_filter_size)"
   ]
  },
  {
   "cell_type": "markdown",
   "metadata": {},
   "source": [
    "## Prepare Train-Test Datasets\n",
    "\n",
    "Split your dataset into a train/test X and y sets. \n",
    "\n",
    "Select a percent split for the test set such that you can accurately evaluate the model accuracy in the next following step.\n",
    "\n",
    "Upon completion, the cell will plot a 2x2 grid. \n",
    " - The left column contains the correctly flipped examples of the data.\n",
    " - The right column contains the incorrect examples.\n",
    " - The bottom row contains the y-axis flip versions of the top row.\n",
    "\n",
    "Ensure that only the plotted frames in the __left__ column show the rodent facing east."
   ]
  },
  {
   "cell_type": "code",
   "execution_count": null,
   "metadata": {},
   "outputs": [],
   "source": [
    "test_size = 20 # percent split\n",
    "\n",
    "FF.prepare_datasets(test_size)"
   ]
  },
  {
   "cell_type": "markdown",
   "metadata": {},
   "source": [
    "## Fit and Evaluate the Flip Classifier Model\n",
    "\n",
    "The following cell will train the model with the split data, determine the flip classifier's accuracy, then saves the model to your desired output path."
   ]
  },
  {
   "cell_type": "code",
   "execution_count": null,
   "metadata": {},
   "outputs": [],
   "source": [
    "# The maximum depth of the tree. Increase this value if your data includes larger amounts of variability.\n",
    "# Variability can arise from obstructions, different rodent sizes, larger crop sizes, etc.\n",
    "# Note: if increasing max_depth, ensure to increase your dataset size to ensure the model is not being over-fit.\n",
    "max_depth = 6 \n",
    "         \n",
    "n_jobs = 4 # Number of parallel jobs to run `fit()` and `predict()`\n",
    "verbose = 0 # levels of verbosity: [0, 1, 2]\n",
    "\n",
    "FF.train_and_evaluate_model(n_jobs=n_jobs,\n",
    "                            max_depth=max_depth,\n",
    "                            verbose=verbose)"
   ]
  },
  {
   "cell_type": "markdown",
   "metadata": {},
   "source": [
    "***"
   ]
  }
 ],
 "metadata": {
  "anaconda-cloud": {},
  "kernelspec": {
   "display_name": "Python 3",
   "language": "python",
   "name": "python3"
  },
  "language_info": {
   "codemirror_mode": {
    "name": "ipython",
    "version": 3
   },
   "file_extension": ".py",
   "mimetype": "text/x-python",
   "name": "python",
   "nbconvert_exporter": "python",
   "pygments_lexer": "ipython3",
   "version": "3.7.7"
  },
  "pycharm": {
   "stem_cell": {
    "cell_type": "raw",
    "source": [],
    "metadata": {
     "collapsed": false
    }
   }
  },
  "toc": {
   "base_numbering": 1,
   "nav_menu": {},
   "number_sections": true,
   "sideBar": true,
   "skip_h1_title": true,
   "title_cell": "Table of Contents",
   "title_sidebar": "Contents",
   "toc_cell": true,
   "toc_position": {},
   "toc_section_display": true,
   "toc_window_display": false
  },
  "varInspector": {
   "cols": {
    "lenName": 16,
    "lenType": 16,
    "lenVar": 40
   },
   "kernels_config": {
    "python": {
     "delete_cmd_postfix": "",
     "delete_cmd_prefix": "del ",
     "library": "var_list.py",
     "varRefreshCmd": "print(var_dic_list())"
    },
    "r": {
     "delete_cmd_postfix": ") ",
     "delete_cmd_prefix": "rm(",
     "library": "var_list.r",
     "varRefreshCmd": "cat(var_dic_list()) "
    }
   },
   "types_to_exclude": [
    "module",
    "function",
    "builtin_function_or_method",
    "instance",
    "_Feature"
   ],
   "window_display": false
  }
 },
 "nbformat": 4,
 "nbformat_minor": 1
}